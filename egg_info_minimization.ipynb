{
  "nbformat": 4,
  "nbformat_minor": 0,
  "metadata": {
    "colab": {
      "name": "CaoNghi-Emergence of Language in Autoencoding Game using Information Minimization.ipynb",
      "provenance": [],
      "collapsed_sections": [],
      "include_colab_link": true
    },
    "kernelspec": {
      "name": "python3",
      "display_name": "Python 3"
    },
    "accelerator": "GPU",
    "widgets": {
      "application/vnd.jupyter.widget-state+json": {
        "a7169c6fceef4bacb4384e2f5b33cea1": {
          "model_module": "@jupyter-widgets/controls",
          "model_name": "HBoxModel",
          "state": {
            "_view_name": "HBoxView",
            "_dom_classes": [],
            "_model_name": "HBoxModel",
            "_view_module": "@jupyter-widgets/controls",
            "_model_module_version": "1.5.0",
            "_view_count": null,
            "_view_module_version": "1.5.0",
            "box_style": "",
            "layout": "IPY_MODEL_de909e3bf9f8400ea9a9f7c941190caf",
            "_model_module": "@jupyter-widgets/controls",
            "children": [
              "IPY_MODEL_fcc826b7d9724394a5bb10bdd273decc",
              "IPY_MODEL_917da4e367bb4b6d87f38ab9bf8b6abc"
            ]
          }
        },
        "de909e3bf9f8400ea9a9f7c941190caf": {
          "model_module": "@jupyter-widgets/base",
          "model_name": "LayoutModel",
          "state": {
            "_view_name": "LayoutView",
            "grid_template_rows": null,
            "right": null,
            "justify_content": null,
            "_view_module": "@jupyter-widgets/base",
            "overflow": null,
            "_model_module_version": "1.2.0",
            "_view_count": null,
            "flex_flow": null,
            "width": null,
            "min_width": null,
            "border": null,
            "align_items": null,
            "bottom": null,
            "_model_module": "@jupyter-widgets/base",
            "top": null,
            "grid_column": null,
            "overflow_y": null,
            "overflow_x": null,
            "grid_auto_flow": null,
            "grid_area": null,
            "grid_template_columns": null,
            "flex": null,
            "_model_name": "LayoutModel",
            "justify_items": null,
            "grid_row": null,
            "max_height": null,
            "align_content": null,
            "visibility": null,
            "align_self": null,
            "height": null,
            "min_height": null,
            "padding": null,
            "grid_auto_rows": null,
            "grid_gap": null,
            "max_width": null,
            "order": null,
            "_view_module_version": "1.2.0",
            "grid_template_areas": null,
            "object_position": null,
            "object_fit": null,
            "grid_auto_columns": null,
            "margin": null,
            "display": null,
            "left": null
          }
        },
        "fcc826b7d9724394a5bb10bdd273decc": {
          "model_module": "@jupyter-widgets/controls",
          "model_name": "FloatProgressModel",
          "state": {
            "_view_name": "ProgressView",
            "style": "IPY_MODEL_e16cdf45a79f4eb899b5656450fc250b",
            "_dom_classes": [],
            "description": "",
            "_model_name": "FloatProgressModel",
            "bar_style": "success",
            "max": 1,
            "_view_module": "@jupyter-widgets/controls",
            "_model_module_version": "1.5.0",
            "value": 1,
            "_view_count": null,
            "_view_module_version": "1.5.0",
            "orientation": "horizontal",
            "min": 0,
            "description_tooltip": null,
            "_model_module": "@jupyter-widgets/controls",
            "layout": "IPY_MODEL_53415dd4b537468ab531e9da713c3ffb"
          }
        },
        "917da4e367bb4b6d87f38ab9bf8b6abc": {
          "model_module": "@jupyter-widgets/controls",
          "model_name": "HTMLModel",
          "state": {
            "_view_name": "HTMLView",
            "style": "IPY_MODEL_9bf65b7135194bcfa306b9f898327d1e",
            "_dom_classes": [],
            "description": "",
            "_model_name": "HTMLModel",
            "placeholder": "​",
            "_view_module": "@jupyter-widgets/controls",
            "_model_module_version": "1.5.0",
            "value": " 9920512/? [00:09&lt;00:00, 1058975.25it/s]",
            "_view_count": null,
            "_view_module_version": "1.5.0",
            "description_tooltip": null,
            "_model_module": "@jupyter-widgets/controls",
            "layout": "IPY_MODEL_22112c0df7f04ecba3b3664db4bee049"
          }
        },
        "e16cdf45a79f4eb899b5656450fc250b": {
          "model_module": "@jupyter-widgets/controls",
          "model_name": "ProgressStyleModel",
          "state": {
            "_view_name": "StyleView",
            "_model_name": "ProgressStyleModel",
            "description_width": "initial",
            "_view_module": "@jupyter-widgets/base",
            "_model_module_version": "1.5.0",
            "_view_count": null,
            "_view_module_version": "1.2.0",
            "bar_color": null,
            "_model_module": "@jupyter-widgets/controls"
          }
        },
        "53415dd4b537468ab531e9da713c3ffb": {
          "model_module": "@jupyter-widgets/base",
          "model_name": "LayoutModel",
          "state": {
            "_view_name": "LayoutView",
            "grid_template_rows": null,
            "right": null,
            "justify_content": null,
            "_view_module": "@jupyter-widgets/base",
            "overflow": null,
            "_model_module_version": "1.2.0",
            "_view_count": null,
            "flex_flow": null,
            "width": null,
            "min_width": null,
            "border": null,
            "align_items": null,
            "bottom": null,
            "_model_module": "@jupyter-widgets/base",
            "top": null,
            "grid_column": null,
            "overflow_y": null,
            "overflow_x": null,
            "grid_auto_flow": null,
            "grid_area": null,
            "grid_template_columns": null,
            "flex": null,
            "_model_name": "LayoutModel",
            "justify_items": null,
            "grid_row": null,
            "max_height": null,
            "align_content": null,
            "visibility": null,
            "align_self": null,
            "height": null,
            "min_height": null,
            "padding": null,
            "grid_auto_rows": null,
            "grid_gap": null,
            "max_width": null,
            "order": null,
            "_view_module_version": "1.2.0",
            "grid_template_areas": null,
            "object_position": null,
            "object_fit": null,
            "grid_auto_columns": null,
            "margin": null,
            "display": null,
            "left": null
          }
        },
        "9bf65b7135194bcfa306b9f898327d1e": {
          "model_module": "@jupyter-widgets/controls",
          "model_name": "DescriptionStyleModel",
          "state": {
            "_view_name": "StyleView",
            "_model_name": "DescriptionStyleModel",
            "description_width": "",
            "_view_module": "@jupyter-widgets/base",
            "_model_module_version": "1.5.0",
            "_view_count": null,
            "_view_module_version": "1.2.0",
            "_model_module": "@jupyter-widgets/controls"
          }
        },
        "22112c0df7f04ecba3b3664db4bee049": {
          "model_module": "@jupyter-widgets/base",
          "model_name": "LayoutModel",
          "state": {
            "_view_name": "LayoutView",
            "grid_template_rows": null,
            "right": null,
            "justify_content": null,
            "_view_module": "@jupyter-widgets/base",
            "overflow": null,
            "_model_module_version": "1.2.0",
            "_view_count": null,
            "flex_flow": null,
            "width": null,
            "min_width": null,
            "border": null,
            "align_items": null,
            "bottom": null,
            "_model_module": "@jupyter-widgets/base",
            "top": null,
            "grid_column": null,
            "overflow_y": null,
            "overflow_x": null,
            "grid_auto_flow": null,
            "grid_area": null,
            "grid_template_columns": null,
            "flex": null,
            "_model_name": "LayoutModel",
            "justify_items": null,
            "grid_row": null,
            "max_height": null,
            "align_content": null,
            "visibility": null,
            "align_self": null,
            "height": null,
            "min_height": null,
            "padding": null,
            "grid_auto_rows": null,
            "grid_gap": null,
            "max_width": null,
            "order": null,
            "_view_module_version": "1.2.0",
            "grid_template_areas": null,
            "object_position": null,
            "object_fit": null,
            "grid_auto_columns": null,
            "margin": null,
            "display": null,
            "left": null
          }
        },
        "bc0ef776675944218a7c5d8a417afd3f": {
          "model_module": "@jupyter-widgets/controls",
          "model_name": "HBoxModel",
          "state": {
            "_view_name": "HBoxView",
            "_dom_classes": [],
            "_model_name": "HBoxModel",
            "_view_module": "@jupyter-widgets/controls",
            "_model_module_version": "1.5.0",
            "_view_count": null,
            "_view_module_version": "1.5.0",
            "box_style": "",
            "layout": "IPY_MODEL_2d5170e816b04464bc4708d228fa321f",
            "_model_module": "@jupyter-widgets/controls",
            "children": [
              "IPY_MODEL_6e53b64e4ffe4f068488011afc0b7e1f",
              "IPY_MODEL_ef12759323e14a01bba2ba32f3fad5c7"
            ]
          }
        },
        "2d5170e816b04464bc4708d228fa321f": {
          "model_module": "@jupyter-widgets/base",
          "model_name": "LayoutModel",
          "state": {
            "_view_name": "LayoutView",
            "grid_template_rows": null,
            "right": null,
            "justify_content": null,
            "_view_module": "@jupyter-widgets/base",
            "overflow": null,
            "_model_module_version": "1.2.0",
            "_view_count": null,
            "flex_flow": null,
            "width": null,
            "min_width": null,
            "border": null,
            "align_items": null,
            "bottom": null,
            "_model_module": "@jupyter-widgets/base",
            "top": null,
            "grid_column": null,
            "overflow_y": null,
            "overflow_x": null,
            "grid_auto_flow": null,
            "grid_area": null,
            "grid_template_columns": null,
            "flex": null,
            "_model_name": "LayoutModel",
            "justify_items": null,
            "grid_row": null,
            "max_height": null,
            "align_content": null,
            "visibility": null,
            "align_self": null,
            "height": null,
            "min_height": null,
            "padding": null,
            "grid_auto_rows": null,
            "grid_gap": null,
            "max_width": null,
            "order": null,
            "_view_module_version": "1.2.0",
            "grid_template_areas": null,
            "object_position": null,
            "object_fit": null,
            "grid_auto_columns": null,
            "margin": null,
            "display": null,
            "left": null
          }
        },
        "6e53b64e4ffe4f068488011afc0b7e1f": {
          "model_module": "@jupyter-widgets/controls",
          "model_name": "FloatProgressModel",
          "state": {
            "_view_name": "ProgressView",
            "style": "IPY_MODEL_f54f2e5f8ed544e380e20d09ac0cbbd7",
            "_dom_classes": [],
            "description": "",
            "_model_name": "FloatProgressModel",
            "bar_style": "success",
            "max": 1,
            "_view_module": "@jupyter-widgets/controls",
            "_model_module_version": "1.5.0",
            "value": 1,
            "_view_count": null,
            "_view_module_version": "1.5.0",
            "orientation": "horizontal",
            "min": 0,
            "description_tooltip": null,
            "_model_module": "@jupyter-widgets/controls",
            "layout": "IPY_MODEL_025b84cbfec640dab90559cc244161a1"
          }
        },
        "ef12759323e14a01bba2ba32f3fad5c7": {
          "model_module": "@jupyter-widgets/controls",
          "model_name": "HTMLModel",
          "state": {
            "_view_name": "HTMLView",
            "style": "IPY_MODEL_8a796dae679b433795145f867d6b802d",
            "_dom_classes": [],
            "description": "",
            "_model_name": "HTMLModel",
            "placeholder": "​",
            "_view_module": "@jupyter-widgets/controls",
            "_model_module_version": "1.5.0",
            "value": " 32768/? [00:00&lt;00:00, 206928.41it/s]",
            "_view_count": null,
            "_view_module_version": "1.5.0",
            "description_tooltip": null,
            "_model_module": "@jupyter-widgets/controls",
            "layout": "IPY_MODEL_c2b882b1f9cb46cd9fd73732347b6462"
          }
        },
        "f54f2e5f8ed544e380e20d09ac0cbbd7": {
          "model_module": "@jupyter-widgets/controls",
          "model_name": "ProgressStyleModel",
          "state": {
            "_view_name": "StyleView",
            "_model_name": "ProgressStyleModel",
            "description_width": "initial",
            "_view_module": "@jupyter-widgets/base",
            "_model_module_version": "1.5.0",
            "_view_count": null,
            "_view_module_version": "1.2.0",
            "bar_color": null,
            "_model_module": "@jupyter-widgets/controls"
          }
        },
        "025b84cbfec640dab90559cc244161a1": {
          "model_module": "@jupyter-widgets/base",
          "model_name": "LayoutModel",
          "state": {
            "_view_name": "LayoutView",
            "grid_template_rows": null,
            "right": null,
            "justify_content": null,
            "_view_module": "@jupyter-widgets/base",
            "overflow": null,
            "_model_module_version": "1.2.0",
            "_view_count": null,
            "flex_flow": null,
            "width": null,
            "min_width": null,
            "border": null,
            "align_items": null,
            "bottom": null,
            "_model_module": "@jupyter-widgets/base",
            "top": null,
            "grid_column": null,
            "overflow_y": null,
            "overflow_x": null,
            "grid_auto_flow": null,
            "grid_area": null,
            "grid_template_columns": null,
            "flex": null,
            "_model_name": "LayoutModel",
            "justify_items": null,
            "grid_row": null,
            "max_height": null,
            "align_content": null,
            "visibility": null,
            "align_self": null,
            "height": null,
            "min_height": null,
            "padding": null,
            "grid_auto_rows": null,
            "grid_gap": null,
            "max_width": null,
            "order": null,
            "_view_module_version": "1.2.0",
            "grid_template_areas": null,
            "object_position": null,
            "object_fit": null,
            "grid_auto_columns": null,
            "margin": null,
            "display": null,
            "left": null
          }
        },
        "8a796dae679b433795145f867d6b802d": {
          "model_module": "@jupyter-widgets/controls",
          "model_name": "DescriptionStyleModel",
          "state": {
            "_view_name": "StyleView",
            "_model_name": "DescriptionStyleModel",
            "description_width": "",
            "_view_module": "@jupyter-widgets/base",
            "_model_module_version": "1.5.0",
            "_view_count": null,
            "_view_module_version": "1.2.0",
            "_model_module": "@jupyter-widgets/controls"
          }
        },
        "c2b882b1f9cb46cd9fd73732347b6462": {
          "model_module": "@jupyter-widgets/base",
          "model_name": "LayoutModel",
          "state": {
            "_view_name": "LayoutView",
            "grid_template_rows": null,
            "right": null,
            "justify_content": null,
            "_view_module": "@jupyter-widgets/base",
            "overflow": null,
            "_model_module_version": "1.2.0",
            "_view_count": null,
            "flex_flow": null,
            "width": null,
            "min_width": null,
            "border": null,
            "align_items": null,
            "bottom": null,
            "_model_module": "@jupyter-widgets/base",
            "top": null,
            "grid_column": null,
            "overflow_y": null,
            "overflow_x": null,
            "grid_auto_flow": null,
            "grid_area": null,
            "grid_template_columns": null,
            "flex": null,
            "_model_name": "LayoutModel",
            "justify_items": null,
            "grid_row": null,
            "max_height": null,
            "align_content": null,
            "visibility": null,
            "align_self": null,
            "height": null,
            "min_height": null,
            "padding": null,
            "grid_auto_rows": null,
            "grid_gap": null,
            "max_width": null,
            "order": null,
            "_view_module_version": "1.2.0",
            "grid_template_areas": null,
            "object_position": null,
            "object_fit": null,
            "grid_auto_columns": null,
            "margin": null,
            "display": null,
            "left": null
          }
        },
        "9ef4bb015a83487c9968cdafb60ba5e2": {
          "model_module": "@jupyter-widgets/controls",
          "model_name": "HBoxModel",
          "state": {
            "_view_name": "HBoxView",
            "_dom_classes": [],
            "_model_name": "HBoxModel",
            "_view_module": "@jupyter-widgets/controls",
            "_model_module_version": "1.5.0",
            "_view_count": null,
            "_view_module_version": "1.5.0",
            "box_style": "",
            "layout": "IPY_MODEL_e68eb4e4aaca4bf1af9ee7f9f352ede4",
            "_model_module": "@jupyter-widgets/controls",
            "children": [
              "IPY_MODEL_bc89b5c63c534a3b9c9fe1ec4c044c3e",
              "IPY_MODEL_0e7b98f14ecb44eeace420df2d48f345"
            ]
          }
        },
        "e68eb4e4aaca4bf1af9ee7f9f352ede4": {
          "model_module": "@jupyter-widgets/base",
          "model_name": "LayoutModel",
          "state": {
            "_view_name": "LayoutView",
            "grid_template_rows": null,
            "right": null,
            "justify_content": null,
            "_view_module": "@jupyter-widgets/base",
            "overflow": null,
            "_model_module_version": "1.2.0",
            "_view_count": null,
            "flex_flow": null,
            "width": null,
            "min_width": null,
            "border": null,
            "align_items": null,
            "bottom": null,
            "_model_module": "@jupyter-widgets/base",
            "top": null,
            "grid_column": null,
            "overflow_y": null,
            "overflow_x": null,
            "grid_auto_flow": null,
            "grid_area": null,
            "grid_template_columns": null,
            "flex": null,
            "_model_name": "LayoutModel",
            "justify_items": null,
            "grid_row": null,
            "max_height": null,
            "align_content": null,
            "visibility": null,
            "align_self": null,
            "height": null,
            "min_height": null,
            "padding": null,
            "grid_auto_rows": null,
            "grid_gap": null,
            "max_width": null,
            "order": null,
            "_view_module_version": "1.2.0",
            "grid_template_areas": null,
            "object_position": null,
            "object_fit": null,
            "grid_auto_columns": null,
            "margin": null,
            "display": null,
            "left": null
          }
        },
        "bc89b5c63c534a3b9c9fe1ec4c044c3e": {
          "model_module": "@jupyter-widgets/controls",
          "model_name": "FloatProgressModel",
          "state": {
            "_view_name": "ProgressView",
            "style": "IPY_MODEL_213331691c084f8c863fc7d9aa555e52",
            "_dom_classes": [],
            "description": "",
            "_model_name": "FloatProgressModel",
            "bar_style": "success",
            "max": 1,
            "_view_module": "@jupyter-widgets/controls",
            "_model_module_version": "1.5.0",
            "value": 1,
            "_view_count": null,
            "_view_module_version": "1.5.0",
            "orientation": "horizontal",
            "min": 0,
            "description_tooltip": null,
            "_model_module": "@jupyter-widgets/controls",
            "layout": "IPY_MODEL_b94606fa8cb2451586b2f538852af471"
          }
        },
        "0e7b98f14ecb44eeace420df2d48f345": {
          "model_module": "@jupyter-widgets/controls",
          "model_name": "HTMLModel",
          "state": {
            "_view_name": "HTMLView",
            "style": "IPY_MODEL_e0fc828b777d42619688334849bf2cf8",
            "_dom_classes": [],
            "description": "",
            "_model_name": "HTMLModel",
            "placeholder": "​",
            "_view_module": "@jupyter-widgets/controls",
            "_model_module_version": "1.5.0",
            "value": " 1654784/? [00:08&lt;00:00, 196412.99it/s]",
            "_view_count": null,
            "_view_module_version": "1.5.0",
            "description_tooltip": null,
            "_model_module": "@jupyter-widgets/controls",
            "layout": "IPY_MODEL_003c9a74598141e3ab88ec3d3135ee2c"
          }
        },
        "213331691c084f8c863fc7d9aa555e52": {
          "model_module": "@jupyter-widgets/controls",
          "model_name": "ProgressStyleModel",
          "state": {
            "_view_name": "StyleView",
            "_model_name": "ProgressStyleModel",
            "description_width": "initial",
            "_view_module": "@jupyter-widgets/base",
            "_model_module_version": "1.5.0",
            "_view_count": null,
            "_view_module_version": "1.2.0",
            "bar_color": null,
            "_model_module": "@jupyter-widgets/controls"
          }
        },
        "b94606fa8cb2451586b2f538852af471": {
          "model_module": "@jupyter-widgets/base",
          "model_name": "LayoutModel",
          "state": {
            "_view_name": "LayoutView",
            "grid_template_rows": null,
            "right": null,
            "justify_content": null,
            "_view_module": "@jupyter-widgets/base",
            "overflow": null,
            "_model_module_version": "1.2.0",
            "_view_count": null,
            "flex_flow": null,
            "width": null,
            "min_width": null,
            "border": null,
            "align_items": null,
            "bottom": null,
            "_model_module": "@jupyter-widgets/base",
            "top": null,
            "grid_column": null,
            "overflow_y": null,
            "overflow_x": null,
            "grid_auto_flow": null,
            "grid_area": null,
            "grid_template_columns": null,
            "flex": null,
            "_model_name": "LayoutModel",
            "justify_items": null,
            "grid_row": null,
            "max_height": null,
            "align_content": null,
            "visibility": null,
            "align_self": null,
            "height": null,
            "min_height": null,
            "padding": null,
            "grid_auto_rows": null,
            "grid_gap": null,
            "max_width": null,
            "order": null,
            "_view_module_version": "1.2.0",
            "grid_template_areas": null,
            "object_position": null,
            "object_fit": null,
            "grid_auto_columns": null,
            "margin": null,
            "display": null,
            "left": null
          }
        },
        "e0fc828b777d42619688334849bf2cf8": {
          "model_module": "@jupyter-widgets/controls",
          "model_name": "DescriptionStyleModel",
          "state": {
            "_view_name": "StyleView",
            "_model_name": "DescriptionStyleModel",
            "description_width": "",
            "_view_module": "@jupyter-widgets/base",
            "_model_module_version": "1.5.0",
            "_view_count": null,
            "_view_module_version": "1.2.0",
            "_model_module": "@jupyter-widgets/controls"
          }
        },
        "003c9a74598141e3ab88ec3d3135ee2c": {
          "model_module": "@jupyter-widgets/base",
          "model_name": "LayoutModel",
          "state": {
            "_view_name": "LayoutView",
            "grid_template_rows": null,
            "right": null,
            "justify_content": null,
            "_view_module": "@jupyter-widgets/base",
            "overflow": null,
            "_model_module_version": "1.2.0",
            "_view_count": null,
            "flex_flow": null,
            "width": null,
            "min_width": null,
            "border": null,
            "align_items": null,
            "bottom": null,
            "_model_module": "@jupyter-widgets/base",
            "top": null,
            "grid_column": null,
            "overflow_y": null,
            "overflow_x": null,
            "grid_auto_flow": null,
            "grid_area": null,
            "grid_template_columns": null,
            "flex": null,
            "_model_name": "LayoutModel",
            "justify_items": null,
            "grid_row": null,
            "max_height": null,
            "align_content": null,
            "visibility": null,
            "align_self": null,
            "height": null,
            "min_height": null,
            "padding": null,
            "grid_auto_rows": null,
            "grid_gap": null,
            "max_width": null,
            "order": null,
            "_view_module_version": "1.2.0",
            "grid_template_areas": null,
            "object_position": null,
            "object_fit": null,
            "grid_auto_columns": null,
            "margin": null,
            "display": null,
            "left": null
          }
        },
        "873043cd9cb647f8956bcf71b660b593": {
          "model_module": "@jupyter-widgets/controls",
          "model_name": "HBoxModel",
          "state": {
            "_view_name": "HBoxView",
            "_dom_classes": [],
            "_model_name": "HBoxModel",
            "_view_module": "@jupyter-widgets/controls",
            "_model_module_version": "1.5.0",
            "_view_count": null,
            "_view_module_version": "1.5.0",
            "box_style": "",
            "layout": "IPY_MODEL_48830e12ce854603857425907387a7b6",
            "_model_module": "@jupyter-widgets/controls",
            "children": [
              "IPY_MODEL_4e593aad087945e2b25085e00b59684e",
              "IPY_MODEL_1378c1d1145d4de8bfd7a381823728d3"
            ]
          }
        },
        "48830e12ce854603857425907387a7b6": {
          "model_module": "@jupyter-widgets/base",
          "model_name": "LayoutModel",
          "state": {
            "_view_name": "LayoutView",
            "grid_template_rows": null,
            "right": null,
            "justify_content": null,
            "_view_module": "@jupyter-widgets/base",
            "overflow": null,
            "_model_module_version": "1.2.0",
            "_view_count": null,
            "flex_flow": null,
            "width": null,
            "min_width": null,
            "border": null,
            "align_items": null,
            "bottom": null,
            "_model_module": "@jupyter-widgets/base",
            "top": null,
            "grid_column": null,
            "overflow_y": null,
            "overflow_x": null,
            "grid_auto_flow": null,
            "grid_area": null,
            "grid_template_columns": null,
            "flex": null,
            "_model_name": "LayoutModel",
            "justify_items": null,
            "grid_row": null,
            "max_height": null,
            "align_content": null,
            "visibility": null,
            "align_self": null,
            "height": null,
            "min_height": null,
            "padding": null,
            "grid_auto_rows": null,
            "grid_gap": null,
            "max_width": null,
            "order": null,
            "_view_module_version": "1.2.0",
            "grid_template_areas": null,
            "object_position": null,
            "object_fit": null,
            "grid_auto_columns": null,
            "margin": null,
            "display": null,
            "left": null
          }
        },
        "4e593aad087945e2b25085e00b59684e": {
          "model_module": "@jupyter-widgets/controls",
          "model_name": "FloatProgressModel",
          "state": {
            "_view_name": "ProgressView",
            "style": "IPY_MODEL_f4cfc0fa8f794958975f94d3dd0f02bf",
            "_dom_classes": [],
            "description": "",
            "_model_name": "FloatProgressModel",
            "bar_style": "success",
            "max": 1,
            "_view_module": "@jupyter-widgets/controls",
            "_model_module_version": "1.5.0",
            "value": 1,
            "_view_count": null,
            "_view_module_version": "1.5.0",
            "orientation": "horizontal",
            "min": 0,
            "description_tooltip": null,
            "_model_module": "@jupyter-widgets/controls",
            "layout": "IPY_MODEL_59cbbd3c54224fc6b4a6ffc7d2fce67f"
          }
        },
        "1378c1d1145d4de8bfd7a381823728d3": {
          "model_module": "@jupyter-widgets/controls",
          "model_name": "HTMLModel",
          "state": {
            "_view_name": "HTMLView",
            "style": "IPY_MODEL_06b6e3ccc1b54b2b9d11f9f4e4d0f481",
            "_dom_classes": [],
            "description": "",
            "_model_name": "HTMLModel",
            "placeholder": "​",
            "_view_module": "@jupyter-widgets/controls",
            "_model_module_version": "1.5.0",
            "value": " 8192/? [00:07&lt;00:00, 1040.82it/s]",
            "_view_count": null,
            "_view_module_version": "1.5.0",
            "description_tooltip": null,
            "_model_module": "@jupyter-widgets/controls",
            "layout": "IPY_MODEL_29ff6221bf004e2a8a3f5b8fedac66ef"
          }
        },
        "f4cfc0fa8f794958975f94d3dd0f02bf": {
          "model_module": "@jupyter-widgets/controls",
          "model_name": "ProgressStyleModel",
          "state": {
            "_view_name": "StyleView",
            "_model_name": "ProgressStyleModel",
            "description_width": "initial",
            "_view_module": "@jupyter-widgets/base",
            "_model_module_version": "1.5.0",
            "_view_count": null,
            "_view_module_version": "1.2.0",
            "bar_color": null,
            "_model_module": "@jupyter-widgets/controls"
          }
        },
        "59cbbd3c54224fc6b4a6ffc7d2fce67f": {
          "model_module": "@jupyter-widgets/base",
          "model_name": "LayoutModel",
          "state": {
            "_view_name": "LayoutView",
            "grid_template_rows": null,
            "right": null,
            "justify_content": null,
            "_view_module": "@jupyter-widgets/base",
            "overflow": null,
            "_model_module_version": "1.2.0",
            "_view_count": null,
            "flex_flow": null,
            "width": null,
            "min_width": null,
            "border": null,
            "align_items": null,
            "bottom": null,
            "_model_module": "@jupyter-widgets/base",
            "top": null,
            "grid_column": null,
            "overflow_y": null,
            "overflow_x": null,
            "grid_auto_flow": null,
            "grid_area": null,
            "grid_template_columns": null,
            "flex": null,
            "_model_name": "LayoutModel",
            "justify_items": null,
            "grid_row": null,
            "max_height": null,
            "align_content": null,
            "visibility": null,
            "align_self": null,
            "height": null,
            "min_height": null,
            "padding": null,
            "grid_auto_rows": null,
            "grid_gap": null,
            "max_width": null,
            "order": null,
            "_view_module_version": "1.2.0",
            "grid_template_areas": null,
            "object_position": null,
            "object_fit": null,
            "grid_auto_columns": null,
            "margin": null,
            "display": null,
            "left": null
          }
        },
        "06b6e3ccc1b54b2b9d11f9f4e4d0f481": {
          "model_module": "@jupyter-widgets/controls",
          "model_name": "DescriptionStyleModel",
          "state": {
            "_view_name": "StyleView",
            "_model_name": "DescriptionStyleModel",
            "description_width": "",
            "_view_module": "@jupyter-widgets/base",
            "_model_module_version": "1.5.0",
            "_view_count": null,
            "_view_module_version": "1.2.0",
            "_model_module": "@jupyter-widgets/controls"
          }
        },
        "29ff6221bf004e2a8a3f5b8fedac66ef": {
          "model_module": "@jupyter-widgets/base",
          "model_name": "LayoutModel",
          "state": {
            "_view_name": "LayoutView",
            "grid_template_rows": null,
            "right": null,
            "justify_content": null,
            "_view_module": "@jupyter-widgets/base",
            "overflow": null,
            "_model_module_version": "1.2.0",
            "_view_count": null,
            "flex_flow": null,
            "width": null,
            "min_width": null,
            "border": null,
            "align_items": null,
            "bottom": null,
            "_model_module": "@jupyter-widgets/base",
            "top": null,
            "grid_column": null,
            "overflow_y": null,
            "overflow_x": null,
            "grid_auto_flow": null,
            "grid_area": null,
            "grid_template_columns": null,
            "flex": null,
            "_model_name": "LayoutModel",
            "justify_items": null,
            "grid_row": null,
            "max_height": null,
            "align_content": null,
            "visibility": null,
            "align_self": null,
            "height": null,
            "min_height": null,
            "padding": null,
            "grid_auto_rows": null,
            "grid_gap": null,
            "max_width": null,
            "order": null,
            "_view_module_version": "1.2.0",
            "grid_template_areas": null,
            "object_position": null,
            "object_fit": null,
            "grid_auto_columns": null,
            "margin": null,
            "display": null,
            "left": null
          }
        },
        "33b837c979c64a989f96d69f67e5c24c": {
          "model_module": "@jupyter-widgets/controls",
          "model_name": "HBoxModel",
          "state": {
            "_view_name": "HBoxView",
            "_dom_classes": [],
            "_model_name": "HBoxModel",
            "_view_module": "@jupyter-widgets/controls",
            "_model_module_version": "1.5.0",
            "_view_count": null,
            "_view_module_version": "1.5.0",
            "box_style": "",
            "layout": "IPY_MODEL_cdf6872963e544c9beaae3ebe9161374",
            "_model_module": "@jupyter-widgets/controls",
            "children": [
              "IPY_MODEL_bf61fce3576e4314930f17710cd69fb3",
              "IPY_MODEL_85892a55d5dd459e999daa0b20d72e09"
            ]
          }
        },
        "cdf6872963e544c9beaae3ebe9161374": {
          "model_module": "@jupyter-widgets/base",
          "model_name": "LayoutModel",
          "state": {
            "_view_name": "LayoutView",
            "grid_template_rows": null,
            "right": null,
            "justify_content": null,
            "_view_module": "@jupyter-widgets/base",
            "overflow": null,
            "_model_module_version": "1.2.0",
            "_view_count": null,
            "flex_flow": null,
            "width": null,
            "min_width": null,
            "border": null,
            "align_items": null,
            "bottom": null,
            "_model_module": "@jupyter-widgets/base",
            "top": null,
            "grid_column": null,
            "overflow_y": null,
            "overflow_x": null,
            "grid_auto_flow": null,
            "grid_area": null,
            "grid_template_columns": null,
            "flex": null,
            "_model_name": "LayoutModel",
            "justify_items": null,
            "grid_row": null,
            "max_height": null,
            "align_content": null,
            "visibility": null,
            "align_self": null,
            "height": null,
            "min_height": null,
            "padding": null,
            "grid_auto_rows": null,
            "grid_gap": null,
            "max_width": null,
            "order": null,
            "_view_module_version": "1.2.0",
            "grid_template_areas": null,
            "object_position": null,
            "object_fit": null,
            "grid_auto_columns": null,
            "margin": null,
            "display": null,
            "left": null
          }
        },
        "bf61fce3576e4314930f17710cd69fb3": {
          "model_module": "@jupyter-widgets/controls",
          "model_name": "FloatProgressModel",
          "state": {
            "_view_name": "ProgressView",
            "style": "IPY_MODEL_a5253ec598dc4dc79a521187d81b1e48",
            "_dom_classes": [],
            "description": "",
            "_model_name": "FloatProgressModel",
            "bar_style": "info",
            "max": 1,
            "_view_module": "@jupyter-widgets/controls",
            "_model_module_version": "1.5.0",
            "value": 1,
            "_view_count": null,
            "_view_module_version": "1.5.0",
            "orientation": "horizontal",
            "min": 0,
            "description_tooltip": null,
            "_model_module": "@jupyter-widgets/controls",
            "layout": "IPY_MODEL_3ec805612eec40fea6daf1b6a71f4ffe"
          }
        },
        "85892a55d5dd459e999daa0b20d72e09": {
          "model_module": "@jupyter-widgets/controls",
          "model_name": "HTMLModel",
          "state": {
            "_view_name": "HTMLView",
            "style": "IPY_MODEL_89f383c7a32149c48700a5b695a33a03",
            "_dom_classes": [],
            "description": "",
            "_model_name": "HTMLModel",
            "placeholder": "​",
            "_view_module": "@jupyter-widgets/controls",
            "_model_module_version": "1.5.0",
            "value": " 9920512/? [00:20&lt;00:00, 10433101.27it/s]",
            "_view_count": null,
            "_view_module_version": "1.5.0",
            "description_tooltip": null,
            "_model_module": "@jupyter-widgets/controls",
            "layout": "IPY_MODEL_5e55e5ae95524c8ea765cf01096ded8c"
          }
        },
        "a5253ec598dc4dc79a521187d81b1e48": {
          "model_module": "@jupyter-widgets/controls",
          "model_name": "ProgressStyleModel",
          "state": {
            "_view_name": "StyleView",
            "_model_name": "ProgressStyleModel",
            "description_width": "initial",
            "_view_module": "@jupyter-widgets/base",
            "_model_module_version": "1.5.0",
            "_view_count": null,
            "_view_module_version": "1.2.0",
            "bar_color": null,
            "_model_module": "@jupyter-widgets/controls"
          }
        },
        "3ec805612eec40fea6daf1b6a71f4ffe": {
          "model_module": "@jupyter-widgets/base",
          "model_name": "LayoutModel",
          "state": {
            "_view_name": "LayoutView",
            "grid_template_rows": null,
            "right": null,
            "justify_content": null,
            "_view_module": "@jupyter-widgets/base",
            "overflow": null,
            "_model_module_version": "1.2.0",
            "_view_count": null,
            "flex_flow": null,
            "width": null,
            "min_width": null,
            "border": null,
            "align_items": null,
            "bottom": null,
            "_model_module": "@jupyter-widgets/base",
            "top": null,
            "grid_column": null,
            "overflow_y": null,
            "overflow_x": null,
            "grid_auto_flow": null,
            "grid_area": null,
            "grid_template_columns": null,
            "flex": null,
            "_model_name": "LayoutModel",
            "justify_items": null,
            "grid_row": null,
            "max_height": null,
            "align_content": null,
            "visibility": null,
            "align_self": null,
            "height": null,
            "min_height": null,
            "padding": null,
            "grid_auto_rows": null,
            "grid_gap": null,
            "max_width": null,
            "order": null,
            "_view_module_version": "1.2.0",
            "grid_template_areas": null,
            "object_position": null,
            "object_fit": null,
            "grid_auto_columns": null,
            "margin": null,
            "display": null,
            "left": null
          }
        },
        "89f383c7a32149c48700a5b695a33a03": {
          "model_module": "@jupyter-widgets/controls",
          "model_name": "DescriptionStyleModel",
          "state": {
            "_view_name": "StyleView",
            "_model_name": "DescriptionStyleModel",
            "description_width": "",
            "_view_module": "@jupyter-widgets/base",
            "_model_module_version": "1.5.0",
            "_view_count": null,
            "_view_module_version": "1.2.0",
            "_model_module": "@jupyter-widgets/controls"
          }
        },
        "5e55e5ae95524c8ea765cf01096ded8c": {
          "model_module": "@jupyter-widgets/base",
          "model_name": "LayoutModel",
          "state": {
            "_view_name": "LayoutView",
            "grid_template_rows": null,
            "right": null,
            "justify_content": null,
            "_view_module": "@jupyter-widgets/base",
            "overflow": null,
            "_model_module_version": "1.2.0",
            "_view_count": null,
            "flex_flow": null,
            "width": null,
            "min_width": null,
            "border": null,
            "align_items": null,
            "bottom": null,
            "_model_module": "@jupyter-widgets/base",
            "top": null,
            "grid_column": null,
            "overflow_y": null,
            "overflow_x": null,
            "grid_auto_flow": null,
            "grid_area": null,
            "grid_template_columns": null,
            "flex": null,
            "_model_name": "LayoutModel",
            "justify_items": null,
            "grid_row": null,
            "max_height": null,
            "align_content": null,
            "visibility": null,
            "align_self": null,
            "height": null,
            "min_height": null,
            "padding": null,
            "grid_auto_rows": null,
            "grid_gap": null,
            "max_width": null,
            "order": null,
            "_view_module_version": "1.2.0",
            "grid_template_areas": null,
            "object_position": null,
            "object_fit": null,
            "grid_auto_columns": null,
            "margin": null,
            "display": null,
            "left": null
          }
        },
        "11655868cd404c1abc00569e689107af": {
          "model_module": "@jupyter-widgets/controls",
          "model_name": "HBoxModel",
          "state": {
            "_view_name": "HBoxView",
            "_dom_classes": [],
            "_model_name": "HBoxModel",
            "_view_module": "@jupyter-widgets/controls",
            "_model_module_version": "1.5.0",
            "_view_count": null,
            "_view_module_version": "1.5.0",
            "box_style": "",
            "layout": "IPY_MODEL_67e52bbce2f248f3a8a7f43fb9acfd5b",
            "_model_module": "@jupyter-widgets/controls",
            "children": [
              "IPY_MODEL_828bae4c4a14499cbbf4ef22ac971349",
              "IPY_MODEL_6125bef2f2124554be24e8a0ea026824"
            ]
          }
        },
        "67e52bbce2f248f3a8a7f43fb9acfd5b": {
          "model_module": "@jupyter-widgets/base",
          "model_name": "LayoutModel",
          "state": {
            "_view_name": "LayoutView",
            "grid_template_rows": null,
            "right": null,
            "justify_content": null,
            "_view_module": "@jupyter-widgets/base",
            "overflow": null,
            "_model_module_version": "1.2.0",
            "_view_count": null,
            "flex_flow": null,
            "width": null,
            "min_width": null,
            "border": null,
            "align_items": null,
            "bottom": null,
            "_model_module": "@jupyter-widgets/base",
            "top": null,
            "grid_column": null,
            "overflow_y": null,
            "overflow_x": null,
            "grid_auto_flow": null,
            "grid_area": null,
            "grid_template_columns": null,
            "flex": null,
            "_model_name": "LayoutModel",
            "justify_items": null,
            "grid_row": null,
            "max_height": null,
            "align_content": null,
            "visibility": null,
            "align_self": null,
            "height": null,
            "min_height": null,
            "padding": null,
            "grid_auto_rows": null,
            "grid_gap": null,
            "max_width": null,
            "order": null,
            "_view_module_version": "1.2.0",
            "grid_template_areas": null,
            "object_position": null,
            "object_fit": null,
            "grid_auto_columns": null,
            "margin": null,
            "display": null,
            "left": null
          }
        },
        "828bae4c4a14499cbbf4ef22ac971349": {
          "model_module": "@jupyter-widgets/controls",
          "model_name": "FloatProgressModel",
          "state": {
            "_view_name": "ProgressView",
            "style": "IPY_MODEL_ae19cc3ef7db4bdc9abd0aed90d592a2",
            "_dom_classes": [],
            "description": "",
            "_model_name": "FloatProgressModel",
            "bar_style": "success",
            "max": 1,
            "_view_module": "@jupyter-widgets/controls",
            "_model_module_version": "1.5.0",
            "value": 1,
            "_view_count": null,
            "_view_module_version": "1.5.0",
            "orientation": "horizontal",
            "min": 0,
            "description_tooltip": null,
            "_model_module": "@jupyter-widgets/controls",
            "layout": "IPY_MODEL_1aceb2e8fc614863a2ae10e079ec347a"
          }
        },
        "6125bef2f2124554be24e8a0ea026824": {
          "model_module": "@jupyter-widgets/controls",
          "model_name": "HTMLModel",
          "state": {
            "_view_name": "HTMLView",
            "style": "IPY_MODEL_aa5391357eb7496e987c4e1e7901baed",
            "_dom_classes": [],
            "description": "",
            "_model_name": "HTMLModel",
            "placeholder": "​",
            "_view_module": "@jupyter-widgets/controls",
            "_model_module_version": "1.5.0",
            "value": " 32768/? [00:08&lt;00:00, 3935.45it/s]",
            "_view_count": null,
            "_view_module_version": "1.5.0",
            "description_tooltip": null,
            "_model_module": "@jupyter-widgets/controls",
            "layout": "IPY_MODEL_b59bcceabb07437db7d20712e518d395"
          }
        },
        "ae19cc3ef7db4bdc9abd0aed90d592a2": {
          "model_module": "@jupyter-widgets/controls",
          "model_name": "ProgressStyleModel",
          "state": {
            "_view_name": "StyleView",
            "_model_name": "ProgressStyleModel",
            "description_width": "initial",
            "_view_module": "@jupyter-widgets/base",
            "_model_module_version": "1.5.0",
            "_view_count": null,
            "_view_module_version": "1.2.0",
            "bar_color": null,
            "_model_module": "@jupyter-widgets/controls"
          }
        },
        "1aceb2e8fc614863a2ae10e079ec347a": {
          "model_module": "@jupyter-widgets/base",
          "model_name": "LayoutModel",
          "state": {
            "_view_name": "LayoutView",
            "grid_template_rows": null,
            "right": null,
            "justify_content": null,
            "_view_module": "@jupyter-widgets/base",
            "overflow": null,
            "_model_module_version": "1.2.0",
            "_view_count": null,
            "flex_flow": null,
            "width": null,
            "min_width": null,
            "border": null,
            "align_items": null,
            "bottom": null,
            "_model_module": "@jupyter-widgets/base",
            "top": null,
            "grid_column": null,
            "overflow_y": null,
            "overflow_x": null,
            "grid_auto_flow": null,
            "grid_area": null,
            "grid_template_columns": null,
            "flex": null,
            "_model_name": "LayoutModel",
            "justify_items": null,
            "grid_row": null,
            "max_height": null,
            "align_content": null,
            "visibility": null,
            "align_self": null,
            "height": null,
            "min_height": null,
            "padding": null,
            "grid_auto_rows": null,
            "grid_gap": null,
            "max_width": null,
            "order": null,
            "_view_module_version": "1.2.0",
            "grid_template_areas": null,
            "object_position": null,
            "object_fit": null,
            "grid_auto_columns": null,
            "margin": null,
            "display": null,
            "left": null
          }
        },
        "aa5391357eb7496e987c4e1e7901baed": {
          "model_module": "@jupyter-widgets/controls",
          "model_name": "DescriptionStyleModel",
          "state": {
            "_view_name": "StyleView",
            "_model_name": "DescriptionStyleModel",
            "description_width": "",
            "_view_module": "@jupyter-widgets/base",
            "_model_module_version": "1.5.0",
            "_view_count": null,
            "_view_module_version": "1.2.0",
            "_model_module": "@jupyter-widgets/controls"
          }
        },
        "b59bcceabb07437db7d20712e518d395": {
          "model_module": "@jupyter-widgets/base",
          "model_name": "LayoutModel",
          "state": {
            "_view_name": "LayoutView",
            "grid_template_rows": null,
            "right": null,
            "justify_content": null,
            "_view_module": "@jupyter-widgets/base",
            "overflow": null,
            "_model_module_version": "1.2.0",
            "_view_count": null,
            "flex_flow": null,
            "width": null,
            "min_width": null,
            "border": null,
            "align_items": null,
            "bottom": null,
            "_model_module": "@jupyter-widgets/base",
            "top": null,
            "grid_column": null,
            "overflow_y": null,
            "overflow_x": null,
            "grid_auto_flow": null,
            "grid_area": null,
            "grid_template_columns": null,
            "flex": null,
            "_model_name": "LayoutModel",
            "justify_items": null,
            "grid_row": null,
            "max_height": null,
            "align_content": null,
            "visibility": null,
            "align_self": null,
            "height": null,
            "min_height": null,
            "padding": null,
            "grid_auto_rows": null,
            "grid_gap": null,
            "max_width": null,
            "order": null,
            "_view_module_version": "1.2.0",
            "grid_template_areas": null,
            "object_position": null,
            "object_fit": null,
            "grid_auto_columns": null,
            "margin": null,
            "display": null,
            "left": null
          }
        },
        "a900b043592143bf8fedeaaa9cb8c2f7": {
          "model_module": "@jupyter-widgets/controls",
          "model_name": "HBoxModel",
          "state": {
            "_view_name": "HBoxView",
            "_dom_classes": [],
            "_model_name": "HBoxModel",
            "_view_module": "@jupyter-widgets/controls",
            "_model_module_version": "1.5.0",
            "_view_count": null,
            "_view_module_version": "1.5.0",
            "box_style": "",
            "layout": "IPY_MODEL_5397f30e1e2e4fc5b24490d5b81bba49",
            "_model_module": "@jupyter-widgets/controls",
            "children": [
              "IPY_MODEL_1a3e8d2d17594620970992e89b380614",
              "IPY_MODEL_33753ea1b78749d387b852c2af2d73ef"
            ]
          }
        },
        "5397f30e1e2e4fc5b24490d5b81bba49": {
          "model_module": "@jupyter-widgets/base",
          "model_name": "LayoutModel",
          "state": {
            "_view_name": "LayoutView",
            "grid_template_rows": null,
            "right": null,
            "justify_content": null,
            "_view_module": "@jupyter-widgets/base",
            "overflow": null,
            "_model_module_version": "1.2.0",
            "_view_count": null,
            "flex_flow": null,
            "width": null,
            "min_width": null,
            "border": null,
            "align_items": null,
            "bottom": null,
            "_model_module": "@jupyter-widgets/base",
            "top": null,
            "grid_column": null,
            "overflow_y": null,
            "overflow_x": null,
            "grid_auto_flow": null,
            "grid_area": null,
            "grid_template_columns": null,
            "flex": null,
            "_model_name": "LayoutModel",
            "justify_items": null,
            "grid_row": null,
            "max_height": null,
            "align_content": null,
            "visibility": null,
            "align_self": null,
            "height": null,
            "min_height": null,
            "padding": null,
            "grid_auto_rows": null,
            "grid_gap": null,
            "max_width": null,
            "order": null,
            "_view_module_version": "1.2.0",
            "grid_template_areas": null,
            "object_position": null,
            "object_fit": null,
            "grid_auto_columns": null,
            "margin": null,
            "display": null,
            "left": null
          }
        },
        "1a3e8d2d17594620970992e89b380614": {
          "model_module": "@jupyter-widgets/controls",
          "model_name": "FloatProgressModel",
          "state": {
            "_view_name": "ProgressView",
            "style": "IPY_MODEL_8fb92982c9b640dcba58e5f984e2e3a3",
            "_dom_classes": [],
            "description": "",
            "_model_name": "FloatProgressModel",
            "bar_style": "success",
            "max": 1,
            "_view_module": "@jupyter-widgets/controls",
            "_model_module_version": "1.5.0",
            "value": 1,
            "_view_count": null,
            "_view_module_version": "1.5.0",
            "orientation": "horizontal",
            "min": 0,
            "description_tooltip": null,
            "_model_module": "@jupyter-widgets/controls",
            "layout": "IPY_MODEL_3ff48a9468624c38a937e0f5413be18f"
          }
        },
        "33753ea1b78749d387b852c2af2d73ef": {
          "model_module": "@jupyter-widgets/controls",
          "model_name": "HTMLModel",
          "state": {
            "_view_name": "HTMLView",
            "style": "IPY_MODEL_4f1010e2de494350bf927362809e225a",
            "_dom_classes": [],
            "description": "",
            "_model_name": "HTMLModel",
            "placeholder": "​",
            "_view_module": "@jupyter-widgets/controls",
            "_model_module_version": "1.5.0",
            "value": " 1654784/? [00:08&lt;00:00, 203110.68it/s]",
            "_view_count": null,
            "_view_module_version": "1.5.0",
            "description_tooltip": null,
            "_model_module": "@jupyter-widgets/controls",
            "layout": "IPY_MODEL_c538651bcd03450a9b9f7c7adc1a6833"
          }
        },
        "8fb92982c9b640dcba58e5f984e2e3a3": {
          "model_module": "@jupyter-widgets/controls",
          "model_name": "ProgressStyleModel",
          "state": {
            "_view_name": "StyleView",
            "_model_name": "ProgressStyleModel",
            "description_width": "initial",
            "_view_module": "@jupyter-widgets/base",
            "_model_module_version": "1.5.0",
            "_view_count": null,
            "_view_module_version": "1.2.0",
            "bar_color": null,
            "_model_module": "@jupyter-widgets/controls"
          }
        },
        "3ff48a9468624c38a937e0f5413be18f": {
          "model_module": "@jupyter-widgets/base",
          "model_name": "LayoutModel",
          "state": {
            "_view_name": "LayoutView",
            "grid_template_rows": null,
            "right": null,
            "justify_content": null,
            "_view_module": "@jupyter-widgets/base",
            "overflow": null,
            "_model_module_version": "1.2.0",
            "_view_count": null,
            "flex_flow": null,
            "width": null,
            "min_width": null,
            "border": null,
            "align_items": null,
            "bottom": null,
            "_model_module": "@jupyter-widgets/base",
            "top": null,
            "grid_column": null,
            "overflow_y": null,
            "overflow_x": null,
            "grid_auto_flow": null,
            "grid_area": null,
            "grid_template_columns": null,
            "flex": null,
            "_model_name": "LayoutModel",
            "justify_items": null,
            "grid_row": null,
            "max_height": null,
            "align_content": null,
            "visibility": null,
            "align_self": null,
            "height": null,
            "min_height": null,
            "padding": null,
            "grid_auto_rows": null,
            "grid_gap": null,
            "max_width": null,
            "order": null,
            "_view_module_version": "1.2.0",
            "grid_template_areas": null,
            "object_position": null,
            "object_fit": null,
            "grid_auto_columns": null,
            "margin": null,
            "display": null,
            "left": null
          }
        },
        "4f1010e2de494350bf927362809e225a": {
          "model_module": "@jupyter-widgets/controls",
          "model_name": "DescriptionStyleModel",
          "state": {
            "_view_name": "StyleView",
            "_model_name": "DescriptionStyleModel",
            "description_width": "",
            "_view_module": "@jupyter-widgets/base",
            "_model_module_version": "1.5.0",
            "_view_count": null,
            "_view_module_version": "1.2.0",
            "_model_module": "@jupyter-widgets/controls"
          }
        },
        "c538651bcd03450a9b9f7c7adc1a6833": {
          "model_module": "@jupyter-widgets/base",
          "model_name": "LayoutModel",
          "state": {
            "_view_name": "LayoutView",
            "grid_template_rows": null,
            "right": null,
            "justify_content": null,
            "_view_module": "@jupyter-widgets/base",
            "overflow": null,
            "_model_module_version": "1.2.0",
            "_view_count": null,
            "flex_flow": null,
            "width": null,
            "min_width": null,
            "border": null,
            "align_items": null,
            "bottom": null,
            "_model_module": "@jupyter-widgets/base",
            "top": null,
            "grid_column": null,
            "overflow_y": null,
            "overflow_x": null,
            "grid_auto_flow": null,
            "grid_area": null,
            "grid_template_columns": null,
            "flex": null,
            "_model_name": "LayoutModel",
            "justify_items": null,
            "grid_row": null,
            "max_height": null,
            "align_content": null,
            "visibility": null,
            "align_self": null,
            "height": null,
            "min_height": null,
            "padding": null,
            "grid_auto_rows": null,
            "grid_gap": null,
            "max_width": null,
            "order": null,
            "_view_module_version": "1.2.0",
            "grid_template_areas": null,
            "object_position": null,
            "object_fit": null,
            "grid_auto_columns": null,
            "margin": null,
            "display": null,
            "left": null
          }
        },
        "09410a1528714a5b8d6f424136419a83": {
          "model_module": "@jupyter-widgets/controls",
          "model_name": "HBoxModel",
          "state": {
            "_view_name": "HBoxView",
            "_dom_classes": [],
            "_model_name": "HBoxModel",
            "_view_module": "@jupyter-widgets/controls",
            "_model_module_version": "1.5.0",
            "_view_count": null,
            "_view_module_version": "1.5.0",
            "box_style": "",
            "layout": "IPY_MODEL_1af542112b7d4c4691c52492d5f71146",
            "_model_module": "@jupyter-widgets/controls",
            "children": [
              "IPY_MODEL_480b1f9fffde4fcaa092bf5d4f4d0a22",
              "IPY_MODEL_75ddbd9ed26645b2a149135689af6306"
            ]
          }
        },
        "1af542112b7d4c4691c52492d5f71146": {
          "model_module": "@jupyter-widgets/base",
          "model_name": "LayoutModel",
          "state": {
            "_view_name": "LayoutView",
            "grid_template_rows": null,
            "right": null,
            "justify_content": null,
            "_view_module": "@jupyter-widgets/base",
            "overflow": null,
            "_model_module_version": "1.2.0",
            "_view_count": null,
            "flex_flow": null,
            "width": null,
            "min_width": null,
            "border": null,
            "align_items": null,
            "bottom": null,
            "_model_module": "@jupyter-widgets/base",
            "top": null,
            "grid_column": null,
            "overflow_y": null,
            "overflow_x": null,
            "grid_auto_flow": null,
            "grid_area": null,
            "grid_template_columns": null,
            "flex": null,
            "_model_name": "LayoutModel",
            "justify_items": null,
            "grid_row": null,
            "max_height": null,
            "align_content": null,
            "visibility": null,
            "align_self": null,
            "height": null,
            "min_height": null,
            "padding": null,
            "grid_auto_rows": null,
            "grid_gap": null,
            "max_width": null,
            "order": null,
            "_view_module_version": "1.2.0",
            "grid_template_areas": null,
            "object_position": null,
            "object_fit": null,
            "grid_auto_columns": null,
            "margin": null,
            "display": null,
            "left": null
          }
        },
        "480b1f9fffde4fcaa092bf5d4f4d0a22": {
          "model_module": "@jupyter-widgets/controls",
          "model_name": "FloatProgressModel",
          "state": {
            "_view_name": "ProgressView",
            "style": "IPY_MODEL_8a928ee158e142eb94b5d60eda79a33c",
            "_dom_classes": [],
            "description": "",
            "_model_name": "FloatProgressModel",
            "bar_style": "success",
            "max": 1,
            "_view_module": "@jupyter-widgets/controls",
            "_model_module_version": "1.5.0",
            "value": 1,
            "_view_count": null,
            "_view_module_version": "1.5.0",
            "orientation": "horizontal",
            "min": 0,
            "description_tooltip": null,
            "_model_module": "@jupyter-widgets/controls",
            "layout": "IPY_MODEL_b362b08073c243c8903ed103521942de"
          }
        },
        "75ddbd9ed26645b2a149135689af6306": {
          "model_module": "@jupyter-widgets/controls",
          "model_name": "HTMLModel",
          "state": {
            "_view_name": "HTMLView",
            "style": "IPY_MODEL_3d6558809d6f47d7a3a763d15cf8fff5",
            "_dom_classes": [],
            "description": "",
            "_model_name": "HTMLModel",
            "placeholder": "​",
            "_view_module": "@jupyter-widgets/controls",
            "_model_module_version": "1.5.0",
            "value": " 8192/? [00:07&lt;00:00, 1051.62it/s]",
            "_view_count": null,
            "_view_module_version": "1.5.0",
            "description_tooltip": null,
            "_model_module": "@jupyter-widgets/controls",
            "layout": "IPY_MODEL_cd4bfbfca4994e0bacff3897919e7b04"
          }
        },
        "8a928ee158e142eb94b5d60eda79a33c": {
          "model_module": "@jupyter-widgets/controls",
          "model_name": "ProgressStyleModel",
          "state": {
            "_view_name": "StyleView",
            "_model_name": "ProgressStyleModel",
            "description_width": "initial",
            "_view_module": "@jupyter-widgets/base",
            "_model_module_version": "1.5.0",
            "_view_count": null,
            "_view_module_version": "1.2.0",
            "bar_color": null,
            "_model_module": "@jupyter-widgets/controls"
          }
        },
        "b362b08073c243c8903ed103521942de": {
          "model_module": "@jupyter-widgets/base",
          "model_name": "LayoutModel",
          "state": {
            "_view_name": "LayoutView",
            "grid_template_rows": null,
            "right": null,
            "justify_content": null,
            "_view_module": "@jupyter-widgets/base",
            "overflow": null,
            "_model_module_version": "1.2.0",
            "_view_count": null,
            "flex_flow": null,
            "width": null,
            "min_width": null,
            "border": null,
            "align_items": null,
            "bottom": null,
            "_model_module": "@jupyter-widgets/base",
            "top": null,
            "grid_column": null,
            "overflow_y": null,
            "overflow_x": null,
            "grid_auto_flow": null,
            "grid_area": null,
            "grid_template_columns": null,
            "flex": null,
            "_model_name": "LayoutModel",
            "justify_items": null,
            "grid_row": null,
            "max_height": null,
            "align_content": null,
            "visibility": null,
            "align_self": null,
            "height": null,
            "min_height": null,
            "padding": null,
            "grid_auto_rows": null,
            "grid_gap": null,
            "max_width": null,
            "order": null,
            "_view_module_version": "1.2.0",
            "grid_template_areas": null,
            "object_position": null,
            "object_fit": null,
            "grid_auto_columns": null,
            "margin": null,
            "display": null,
            "left": null
          }
        },
        "3d6558809d6f47d7a3a763d15cf8fff5": {
          "model_module": "@jupyter-widgets/controls",
          "model_name": "DescriptionStyleModel",
          "state": {
            "_view_name": "StyleView",
            "_model_name": "DescriptionStyleModel",
            "description_width": "",
            "_view_module": "@jupyter-widgets/base",
            "_model_module_version": "1.5.0",
            "_view_count": null,
            "_view_module_version": "1.2.0",
            "_model_module": "@jupyter-widgets/controls"
          }
        },
        "cd4bfbfca4994e0bacff3897919e7b04": {
          "model_module": "@jupyter-widgets/base",
          "model_name": "LayoutModel",
          "state": {
            "_view_name": "LayoutView",
            "grid_template_rows": null,
            "right": null,
            "justify_content": null,
            "_view_module": "@jupyter-widgets/base",
            "overflow": null,
            "_model_module_version": "1.2.0",
            "_view_count": null,
            "flex_flow": null,
            "width": null,
            "min_width": null,
            "border": null,
            "align_items": null,
            "bottom": null,
            "_model_module": "@jupyter-widgets/base",
            "top": null,
            "grid_column": null,
            "overflow_y": null,
            "overflow_x": null,
            "grid_auto_flow": null,
            "grid_area": null,
            "grid_template_columns": null,
            "flex": null,
            "_model_name": "LayoutModel",
            "justify_items": null,
            "grid_row": null,
            "max_height": null,
            "align_content": null,
            "visibility": null,
            "align_self": null,
            "height": null,
            "min_height": null,
            "padding": null,
            "grid_auto_rows": null,
            "grid_gap": null,
            "max_width": null,
            "order": null,
            "_view_module_version": "1.2.0",
            "grid_template_areas": null,
            "object_position": null,
            "object_fit": null,
            "grid_auto_columns": null,
            "margin": null,
            "display": null,
            "left": null
          }
        }
      }
    }
  },
  "cells": [
    {
      "cell_type": "markdown",
      "metadata": {
        "id": "view-in-github",
        "colab_type": "text"
      },
      "source": [
        "<a href=\"https://colab.research.google.com/github/ngcaonghi/rl-communicate/blob/master/egg_info_minimization.ipynb\" target=\"_parent\"><img src=\"https://colab.research.google.com/assets/colab-badge.svg\" alt=\"Open In Colab\"/></a>"
      ]
    },
    {
      "cell_type": "markdown",
      "metadata": {
        "id": "pJorHP9ogvlq",
        "colab_type": "text"
      },
      "source": [
        "# Emergence of Language from the Signaling Game with Information Minimization\n",
        "\n",
        "This final project aims to extract rudimentary prototypes of language, such as vocabulary and grammar, from a multi-agent signaling game inspired by David Lewis (Lewis 1969). \n",
        "\n",
        "In this game, 2 deep neural network agents jointly solve an image autoencoding task: the agent acting as the Sender \"sees\" an image and tries to \"describe\" it through messages via a discrete communication channel with the one acting as the Receiver; the Receiver then tries to recover that image using those messages. Using a similar set-up but with a heavy architecture for image classification, i.e. VGG-16, and the MS COCO dataset, Havrylov and Titov discovered that the emergent messages bear some resemblance with natural languages that are quite surprising, albeit weak and debatable: they reflect a form of syntax and semantic hierarchy (Havrylov & Titov, 2017). \n",
        "\n",
        "Kharitonov et al. also discovered that when the Sender and the Receiver share some prior knowledge, their communication protocol will be optimized by largely ignoring information relevant to such prior knowledge (Kharitonov et al., 2019). However, the jury is still out whether that trick helps with the emergence of natural language prototypes, or whether it in fact sacrifices that emergence for efficiency. My hypothesis is that the former is true.\n",
        "\n",
        "By playing with the MNIST Dataset and the EGG (Emergence of lanGuage in Games) by Facebook Research, I attempted to address that question and concluded that my hypothesis is unsupported by the data."
      ]
    },
    {
      "cell_type": "markdown",
      "metadata": {
        "id": "a-Us4_B5knx0",
        "colab_type": "text"
      },
      "source": [
        "## 1. Basic Set-up with MNIST\n",
        "\n",
        "In this set-up, the Sender and the Receiver both know the images' labels. What they should communicate are the image styles."
      ]
    },
    {
      "cell_type": "code",
      "metadata": {
        "id": "9xQrFMio3Svd",
        "colab_type": "code",
        "colab": {}
      },
      "source": [
        "from google.colab import drive\n",
        "drive.mount('/content/gdrive')"
      ],
      "execution_count": null,
      "outputs": []
    },
    {
      "cell_type": "code",
      "metadata": {
        "id": "8LPseKpp4G1w",
        "colab_type": "code",
        "colab": {}
      },
      "source": [
        "!pip install git+https://github.com/facebookresearch/EGG.git"
      ],
      "execution_count": null,
      "outputs": []
    },
    {
      "cell_type": "code",
      "metadata": {
        "id": "Oa6WMbiK4LDM",
        "colab_type": "code",
        "colab": {
          "base_uri": "https://localhost:8080/",
          "height": 51
        },
        "outputId": "43bb272f-b0f6-475f-8f97-1e0217d7011e"
      },
      "source": [
        "%matplotlib inline\n",
        "%load_ext autoreload\n",
        "%autoreload 2\n",
        "\n",
        "import torch\n",
        "import torch.nn as nn\n",
        "import egg.core as core\n",
        "\n",
        "from torchvision import datasets, transforms, models\n",
        "from torch import utils, save, load\n",
        "from torch.nn import functional as F\n",
        "\n",
        "import shutil\n",
        "import matplotlib.pyplot as plt\n",
        "import random\n",
        "import numpy as np\n",
        "import pandas as pd\n",
        "\n",
        "plt.style.use('dark_background')\n",
        "opts = core.init(params=['--random_seed=42',\n",
        "                         '--batch_size=16']) # for reproducibility\n",
        "\n",
        "device = torch.device('cuda' if torch.cuda.is_available() else 'cpu')"
      ],
      "execution_count": null,
      "outputs": [
        {
          "output_type": "stream",
          "text": [
            "The autoreload extension is already loaded. To reload it, use:\n",
            "  %reload_ext autoreload\n"
          ],
          "name": "stdout"
        }
      ]
    },
    {
      "cell_type": "code",
      "metadata": {
        "id": "YztWcly1Dct2",
        "colab_type": "code",
        "colab": {}
      },
      "source": [
        "# doubles the labels in each datastream so that one is given to the Receiver\n",
        "# as mutual information\n",
        "class RepeatLabel(datasets.MNIST) :\n",
        "    def __getitem__(self, idx):\n",
        "        image, label = super().__getitem__(idx)\n",
        "        return image, torch.tensor(label), torch.tensor(label)"
      ],
      "execution_count": null,
      "outputs": []
    },
    {
      "cell_type": "code",
      "metadata": {
        "id": "BUjXOgdmBfSp",
        "colab_type": "code",
        "colab": {
          "base_uri": "https://localhost:8080/",
          "height": 369,
          "referenced_widgets": [
            "a7169c6fceef4bacb4384e2f5b33cea1",
            "de909e3bf9f8400ea9a9f7c941190caf",
            "fcc826b7d9724394a5bb10bdd273decc",
            "917da4e367bb4b6d87f38ab9bf8b6abc",
            "e16cdf45a79f4eb899b5656450fc250b",
            "53415dd4b537468ab531e9da713c3ffb",
            "9bf65b7135194bcfa306b9f898327d1e",
            "22112c0df7f04ecba3b3664db4bee049",
            "bc0ef776675944218a7c5d8a417afd3f",
            "2d5170e816b04464bc4708d228fa321f",
            "6e53b64e4ffe4f068488011afc0b7e1f",
            "ef12759323e14a01bba2ba32f3fad5c7",
            "f54f2e5f8ed544e380e20d09ac0cbbd7",
            "025b84cbfec640dab90559cc244161a1",
            "8a796dae679b433795145f867d6b802d",
            "c2b882b1f9cb46cd9fd73732347b6462",
            "9ef4bb015a83487c9968cdafb60ba5e2",
            "e68eb4e4aaca4bf1af9ee7f9f352ede4",
            "bc89b5c63c534a3b9c9fe1ec4c044c3e",
            "0e7b98f14ecb44eeace420df2d48f345",
            "213331691c084f8c863fc7d9aa555e52",
            "b94606fa8cb2451586b2f538852af471",
            "e0fc828b777d42619688334849bf2cf8",
            "003c9a74598141e3ab88ec3d3135ee2c",
            "873043cd9cb647f8956bcf71b660b593",
            "48830e12ce854603857425907387a7b6",
            "4e593aad087945e2b25085e00b59684e",
            "1378c1d1145d4de8bfd7a381823728d3",
            "f4cfc0fa8f794958975f94d3dd0f02bf",
            "59cbbd3c54224fc6b4a6ffc7d2fce67f",
            "06b6e3ccc1b54b2b9d11f9f4e4d0f481",
            "29ff6221bf004e2a8a3f5b8fedac66ef"
          ]
        },
        "outputId": "f057cb53-f15b-4e39-e435-baf9b7f5976c"
      },
      "source": [
        "kwargs = {'num_workers': 1, 'pin_memory': True} if opts.cuda else {}\n",
        "transform = transforms.ToTensor()\n",
        "\n",
        "train_loader = torch.utils.data.DataLoader(\n",
        "    RepeatLabel('./data', train=True, download=True,\n",
        "    transform=transform),\n",
        "    batch_size=opts.batch_size, shuffle=True, **kwargs)\n",
        "\n",
        "\n",
        "validation_loader = torch.utils.data.DataLoader(\n",
        "    RepeatLabel('./data', train=False, download=False,\n",
        "    transform=transform),\n",
        "    batch_size=4 * opts.batch_size, shuffle=False, **kwargs)"
      ],
      "execution_count": null,
      "outputs": [
        {
          "output_type": "stream",
          "text": [
            "Downloading http://yann.lecun.com/exdb/mnist/train-images-idx3-ubyte.gz to ./data/RepeatLabel/raw/train-images-idx3-ubyte.gz\n"
          ],
          "name": "stdout"
        },
        {
          "output_type": "display_data",
          "data": {
            "application/vnd.jupyter.widget-view+json": {
              "model_id": "a7169c6fceef4bacb4384e2f5b33cea1",
              "version_minor": 0,
              "version_major": 2
            },
            "text/plain": [
              "HBox(children=(FloatProgress(value=1.0, bar_style='info', max=1.0), HTML(value='')))"
            ]
          },
          "metadata": {
            "tags": []
          }
        },
        {
          "output_type": "stream",
          "text": [
            "Extracting ./data/RepeatLabel/raw/train-images-idx3-ubyte.gz to ./data/RepeatLabel/raw\n",
            "Downloading http://yann.lecun.com/exdb/mnist/train-labels-idx1-ubyte.gz to ./data/RepeatLabel/raw/train-labels-idx1-ubyte.gz\n"
          ],
          "name": "stdout"
        },
        {
          "output_type": "display_data",
          "data": {
            "application/vnd.jupyter.widget-view+json": {
              "model_id": "bc0ef776675944218a7c5d8a417afd3f",
              "version_minor": 0,
              "version_major": 2
            },
            "text/plain": [
              "HBox(children=(FloatProgress(value=1.0, bar_style='info', max=1.0), HTML(value='')))"
            ]
          },
          "metadata": {
            "tags": []
          }
        },
        {
          "output_type": "stream",
          "text": [
            "Extracting ./data/RepeatLabel/raw/train-labels-idx1-ubyte.gz to ./data/RepeatLabel/raw\n",
            "Downloading http://yann.lecun.com/exdb/mnist/t10k-images-idx3-ubyte.gz to ./data/RepeatLabel/raw/t10k-images-idx3-ubyte.gz\n",
            "\n"
          ],
          "name": "stdout"
        },
        {
          "output_type": "display_data",
          "data": {
            "application/vnd.jupyter.widget-view+json": {
              "model_id": "9ef4bb015a83487c9968cdafb60ba5e2",
              "version_minor": 0,
              "version_major": 2
            },
            "text/plain": [
              "HBox(children=(FloatProgress(value=1.0, bar_style='info', max=1.0), HTML(value='')))"
            ]
          },
          "metadata": {
            "tags": []
          }
        },
        {
          "output_type": "stream",
          "text": [
            "Extracting ./data/RepeatLabel/raw/t10k-images-idx3-ubyte.gz to ./data/RepeatLabel/raw\n",
            "Downloading http://yann.lecun.com/exdb/mnist/t10k-labels-idx1-ubyte.gz to ./data/RepeatLabel/raw/t10k-labels-idx1-ubyte.gz\n"
          ],
          "name": "stdout"
        },
        {
          "output_type": "display_data",
          "data": {
            "application/vnd.jupyter.widget-view+json": {
              "model_id": "873043cd9cb647f8956bcf71b660b593",
              "version_minor": 0,
              "version_major": 2
            },
            "text/plain": [
              "HBox(children=(FloatProgress(value=1.0, bar_style='info', max=1.0), HTML(value='')))"
            ]
          },
          "metadata": {
            "tags": []
          }
        },
        {
          "output_type": "stream",
          "text": [
            "Extracting ./data/RepeatLabel/raw/t10k-labels-idx1-ubyte.gz to ./data/RepeatLabel/raw\n",
            "Processing...\n",
            "Done!\n"
          ],
          "name": "stdout"
        },
        {
          "output_type": "stream",
          "text": [
            "/pytorch/torch/csrc/utils/tensor_numpy.cpp:141: UserWarning: The given NumPy array is not writeable, and PyTorch does not support non-writeable tensors. This means you can write to the underlying (supposedly non-writeable) NumPy array using the tensor. You may want to copy the array to protect its data or make it writeable before converting it to a tensor. This type of warning will be suppressed for the rest of this program.\n"
          ],
          "name": "stderr"
        }
      ]
    },
    {
      "cell_type": "code",
      "metadata": {
        "id": "Jpxn6F7guxmo",
        "colab_type": "code",
        "colab": {
          "base_uri": "https://localhost:8080/",
          "height": 34
        },
        "outputId": "9f3d66ec-6f16-4e48-e11b-89feb6c00d9a"
      },
      "source": [
        "len(train_loader.dataset.classes)"
      ],
      "execution_count": null,
      "outputs": [
        {
          "output_type": "execute_result",
          "data": {
            "text/plain": [
              "10"
            ]
          },
          "metadata": {
            "tags": []
          },
          "execution_count": 6
        }
      ]
    },
    {
      "cell_type": "code",
      "metadata": {
        "id": "jb26xvbmwHOG",
        "colab_type": "code",
        "colab": {
          "base_uri": "https://localhost:8080/",
          "height": 333
        },
        "outputId": "3df66be9-9aed-44af-a65a-c2db2caa5c74"
      },
      "source": [
        "plt.imshow(train_loader.dataset[42][0].view((28, 28)))"
      ],
      "execution_count": null,
      "outputs": [
        {
          "output_type": "stream",
          "text": [
            "\n"
          ],
          "name": "stdout"
        },
        {
          "output_type": "execute_result",
          "data": {
            "text/plain": [
              "<matplotlib.image.AxesImage at 0x7fb5002ebe10>"
            ]
          },
          "metadata": {
            "tags": []
          },
          "execution_count": 7
        },
        {
          "output_type": "display_data",
          "data": {
            "image/png": "[encoded data removed]",
            "text/plain": [
              "<Figure size 432x288 with 1 Axes>"
            ]
          },
          "metadata": {
            "tags": []
          }
        },
        {
          "output_type": "stream",
          "text": [
            "\n",
            "\n"
          ],
          "name": "stdout"
        }
      ]
    },
    {
      "cell_type": "code",
      "metadata": {
        "id": "H_GVZ4eKC7MP",
        "colab_type": "code",
        "colab": {}
      },
      "source": [
        "class Sender(nn.Module):\n",
        "    ''' Sender architecture: stripped-down LeNet-5 CNN\n",
        "    with 2 convolutional layers.\n",
        "    '''\n",
        "    def __init__(self, vocab_size):\n",
        "        super(Sender, self).__init__()\n",
        "        self.conv1 = nn.Conv2d(1, 6, 5, padding=2)\n",
        "        self.conv2 = nn.Conv2d(6, 16, 5, padding=2)\n",
        "        self.fc1 = nn.Linear(784, 400)\n",
        "        self.fc2 = nn.Linear(400, vocab_size)\n",
        "    \n",
        "    def num_flat_features(self, x):\n",
        "        size = x.size()[1:]\n",
        "        num_features = 1\n",
        "        for s in size:\n",
        "            num_features *= s\n",
        "        return num_features\n",
        "\n",
        "    def forward(self, x):\n",
        "        x = F.max_pool2d(F.relu(self.conv1(x)), (2, 2), stride=2)\n",
        "        x = F.max_pool2d(F.relu(self.conv2(x)), (2, 2), stride=2)\n",
        "        x = x.view(-1, self.num_flat_features(x))\n",
        "        x = F.relu(self.fc1(x))\n",
        "        x = self.fc2(x)\n",
        "        logits = F.log_softmax(x, dim=1)\n",
        "        return logits\n",
        "\n",
        "\n",
        "class Receiver(nn.Module):\n",
        "    '''Receiver architecture: MLP. Input is prior knowledge, i.e. image labels,\n",
        "    concatenated with the discrete message from Sender.\n",
        "    '''\n",
        "    def __init__(self, vocab_size, class_size):\n",
        "        super(Receiver, self).__init__()\n",
        "        self.fc1 = nn.Linear(vocab_size, 400)\n",
        "        self.fc2 = nn.Linear(800, 400)\n",
        "        self.fc3 = nn.Linear(400, 784)\n",
        "        \n",
        "        self.class_embedding = torch.nn.Embedding(class_size, 400)\n",
        "\n",
        "    def forward(self, message, class_label):\n",
        "        class_embedded = self.class_embedding(class_label)\n",
        "        message_embedded = self.fc1(message)\n",
        "\n",
        "        x = torch.cat([message_embedded, class_embedded], dim=1)\n",
        "        x = self.fc2(x)\n",
        "        x = F.leaky_relu(x)\n",
        "        x = self.fc3(x)\n",
        "        return torch.sigmoid(x)\n",
        "    \n",
        "def loss(sender_input, _message, _receiver_input, receiver_output, _labels):\n",
        "    loss = F.binary_cross_entropy(receiver_output, sender_input.view(-1, 784), reduction='none').mean(dim=1)\n",
        "    return loss, {}"
      ],
      "execution_count": null,
      "outputs": []
    },
    {
      "cell_type": "code",
      "metadata": {
        "id": "8KgZhSw2KLjk",
        "colab_type": "code",
        "colab": {}
      },
      "source": [
        "hidden_size = 20\n",
        "embed_size = 10\n",
        "VOCAB_SIZE = 8\n",
        "MAX_LEN = 9\n",
        "TEMP = 0.25 # temperature hyperparameter for Gumbel-Softmax relaxation.\n",
        "            # The closer the temperature is to 0, the more minimization pressure\n",
        "            # is imposed on the communication protocol.\n",
        "\n",
        "# init Sender and Receiver\n",
        "sender = Sender(hidden_size)\n",
        "receiver = Receiver(hidden_size, class_size=10)\n",
        "\n",
        "# wrap them in RNNs with Gumbel-Softmax relaxation\n",
        "sender_rnn = core.RnnSenderGS(sender, VOCAB_SIZE, embed_size, hidden_size,\n",
        "                              cell=\"lstm\", max_len=MAX_LEN, temperature=TEMP,\n",
        "                              trainable_temperature=False)\n",
        "receiver_rnn = core.RnnReceiverGS(receiver, vocab_size, embed_size,\n",
        "                    hidden_size, cell=\"lstm\")\n",
        "\n",
        "# init game\n",
        "game_rnn = core.SenderReceiverRnnGS(sender_rnn, receiver_rnn, loss)"
      ],
      "execution_count": null,
      "outputs": []
    },
    {
      "cell_type": "code",
      "metadata": {
        "id": "5BQ2L3hKLU1D",
        "colab_type": "code",
        "colab": {
          "base_uri": "https://localhost:8080/",
          "height": 102
        },
        "outputId": "14c0787e-56db-4142-ee8b-6854b2221549"
      },
      "source": [
        "# for manually tuning the learning rate of each agent:\n",
        "optimizer = torch.optim.Adam([\n",
        "        {'params': game_rnn.sender.parameters(), 'lr': 1e-4},\n",
        "        {'params': game_rnn.receiver.parameters(), 'lr': 1e-3}\n",
        "    ])\n",
        "\n",
        "trainer = core.Trainer(game=game_rnn, optimizer=optimizer, train_data=train_loader,\n",
        "                       validation_data=validation_loader)\n",
        "trainer.train(5)"
      ],
      "execution_count": null,
      "outputs": [
        {
          "output_type": "stream",
          "text": [
            "test: epoch 1, loss 0.19623002409934998,  {'mean_length': tensor(3.9917, device='cuda:0')}\n",
            "test: epoch 2, loss 0.18952509760856628,  {'mean_length': tensor(4.5869, device='cuda:0')}\n",
            "test: epoch 3, loss 0.1886882483959198,  {'mean_length': tensor(4.6405, device='cuda:0')}\n",
            "test: epoch 4, loss 0.18621842563152313,  {'mean_length': tensor(4.9761, device='cuda:0')}\n",
            "test: epoch 5, loss 0.18623371422290802,  {'mean_length': tensor(4.3863, device='cuda:0')}\n"
          ],
          "name": "stdout"
        }
      ]
    },
    {
      "cell_type": "code",
      "metadata": {
        "id": "ewc6cwVDJEpf",
        "colab_type": "code",
        "colab": {}
      },
      "source": [
        "# extract messages\n",
        "sender_input, messages, _receiver_inputs, receiver_outputs, _labels = \\\n",
        "            core.dump_sender_receiver(game_rnn, validation_loader, gs=True, variable_length=True)"
      ],
      "execution_count": null,
      "outputs": []
    },
    {
      "cell_type": "code",
      "metadata": {
        "id": "tD6tnhj9q2t6",
        "colab_type": "code",
        "colab": {
          "base_uri": "https://localhost:8080/",
          "height": 187
        },
        "outputId": "301555ec-6b65-428c-fc30-d18b1d4f8074"
      },
      "source": [
        "messages[100:110]"
      ],
      "execution_count": null,
      "outputs": [
        {
          "output_type": "execute_result",
          "data": {
            "text/plain": [
              "[tensor([6, 6, 6, 6, 2, 2, 2, 0], device='cuda:0'),\n",
              " tensor([6, 6, 6, 2, 2, 2, 0], device='cuda:0'),\n",
              " tensor([6, 2, 2, 0], device='cuda:0'),\n",
              " tensor([6, 6, 6, 6, 6, 2, 2, 2, 0], device='cuda:0'),\n",
              " tensor([6, 6, 6, 6, 6, 6, 6, 6, 0], device='cuda:0'),\n",
              " tensor([6, 6, 6, 2, 2, 0], device='cuda:0'),\n",
              " tensor([0], device='cuda:0'),\n",
              " tensor([2, 2, 0], device='cuda:0'),\n",
              " tensor([6, 6, 2, 2, 2, 0], device='cuda:0'),\n",
              " tensor([6, 6, 2, 2, 0], device='cuda:0')]"
            ]
          },
          "metadata": {
            "tags": []
          },
          "execution_count": 118
        }
      ]
    },
    {
      "cell_type": "code",
      "metadata": {
        "id": "j9PMBztaIZTS",
        "colab_type": "code",
        "colab": {}
      },
      "source": [
        "def tensor_to_string(t) :\n",
        "    s = ''\n",
        "    t = t.to('cpu').numpy()\n",
        "    for i in t :\n",
        "        s += str(i)\n",
        "    return s\n",
        "\n",
        "messages_to_strings = [tensor_to_string(message) for message in messages]"
      ],
      "execution_count": null,
      "outputs": []
    },
    {
      "cell_type": "code",
      "metadata": {
        "id": "IBu8FGS9O7KZ",
        "colab_type": "code",
        "colab": {
          "base_uri": "https://localhost:8080/",
          "height": 136
        },
        "outputId": "c92f188f-e94b-4527-f3f6-f04a45b85b8e"
      },
      "source": [
        "message_code = np.unique(messages_to_strings)\n",
        "message_code"
      ],
      "execution_count": null,
      "outputs": [
        {
          "output_type": "execute_result",
          "data": {
            "text/plain": [
              "array(['0', '20', '220', '2220', '240', '40', '440', '620', '6220',\n",
              "       '62220', '6240', '640', '6440', '64440', '644440', '646662220',\n",
              "       '6620', '66220', '662220', '6640', '66420', '664240', '66440',\n",
              "       '664440', '6644440', '664444440', '66620', '666220', '6662220',\n",
              "       '66622220', '666420', '6664220', '6664240', '6666220', '66662220',\n",
              "       '666622220', '666662220', '666666220', '666666620', '666666660'],\n",
              "      dtype='<U9')"
            ]
          },
          "metadata": {
            "tags": []
          },
          "execution_count": 53
        }
      ]
    },
    {
      "cell_type": "code",
      "metadata": {
        "id": "_exZTaPHc-0U",
        "colab_type": "code",
        "colab": {
          "base_uri": "https://localhost:8080/",
          "height": 34
        },
        "outputId": "6c92ff66-3f0e-4e50-906b-8f17098cadd9"
      },
      "source": [
        "len(message_code)\n",
        "# looks like with this set-up, the 2 agents came up with 40 \"words\" to describe \n",
        "# the image styles in the validation dataset"
      ],
      "execution_count": null,
      "outputs": [
        {
          "output_type": "execute_result",
          "data": {
            "text/plain": [
              "40"
            ]
          },
          "metadata": {
            "tags": []
          },
          "execution_count": 104
        }
      ]
    },
    {
      "cell_type": "code",
      "metadata": {
        "id": "01XyyWmQcL_F",
        "colab_type": "code",
        "colab": {
          "base_uri": "https://localhost:8080/",
          "height": 282
        },
        "outputId": "ff79b960-bb7a-4296-a96d-8ffe71f76200"
      },
      "source": [
        "plt.imshow(validation_loader.dataset[25][0].view(28, 28))"
      ],
      "execution_count": null,
      "outputs": [
        {
          "output_type": "execute_result",
          "data": {
            "text/plain": [
              "<matplotlib.image.AxesImage at 0x7fb4c6925be0>"
            ]
          },
          "metadata": {
            "tags": []
          },
          "execution_count": 94
        },
        {
          "output_type": "display_data",
          "data": {
            "image/png": "[encoded data removed]",
            "text/plain": [
              "<Figure size 432x288 with 1 Axes>"
            ]
          },
          "metadata": {
            "tags": []
          }
        }
      ]
    },
    {
      "cell_type": "code",
      "metadata": {
        "id": "Vegb527HXBZd",
        "colab_type": "code",
        "colab": {}
      },
      "source": [
        "fours_idx_list = []\n",
        "for code in message_code :\n",
        "    for i, message in enumerate(messages_to_strings) :\n",
        "        if (_labels[i].to('cpu') == torch.tensor(4)) and (message == code) :\n",
        "            fours_idx_list.append(i)\n",
        "            break"
      ],
      "execution_count": null,
      "outputs": []
    },
    {
      "cell_type": "code",
      "metadata": {
        "id": "GFduieKTcA6j",
        "colab_type": "code",
        "colab": {
          "base_uri": "https://localhost:8080/",
          "height": 34
        },
        "outputId": "28fad88c-0913-4155-d54e-c17e0e6d1878"
      },
      "source": [
        "len(fours_idx_list)\n",
        "# looks like number 4 in the validation set is written in 31 different styles, according to the agents"
      ],
      "execution_count": null,
      "outputs": [
        {
          "output_type": "execute_result",
          "data": {
            "text/plain": [
              "31"
            ]
          },
          "metadata": {
            "tags": []
          },
          "execution_count": 103
        }
      ]
    },
    {
      "cell_type": "code",
      "metadata": {
        "id": "w6yvi0XhRB9s",
        "colab_type": "code",
        "colab": {
          "base_uri": "https://localhost:8080/",
          "height": 542
        },
        "outputId": "003e90ad-bcea-4c8a-e55d-41b400e36a09"
      },
      "source": [
        "f, ax = plt.subplots(6, 6, figsize=(30, 12))\n",
        "\n",
        "for i, index in enumerate(fours_idx_list) :\n",
        "    image = validation_loader.dataset[index][0].view(28, 28)\n",
        "    ax[i//6][i%6].imshow(image, cmap='gray')\n",
        "    ax[i//6][i%6].set_title(messages_to_strings[index])\n",
        "    ax[i//6][i%6].axis('off')\n",
        "\n",
        "for i in range(31, 36) :\n",
        "    ax[i//6][i%6].axis('off')"
      ],
      "execution_count": null,
      "outputs": [
        {
          "output_type": "display_data",
          "data": {
            "image/png": "[encoded data removed]",
            "text/plain": [
              "<Figure size 2160x864 with 36 Axes>"
            ]
          },
          "metadata": {
            "tags": []
          }
        }
      ]
    },
    {
      "cell_type": "markdown",
      "metadata": {
        "id": "09MeBUC8oxk9",
        "colab_type": "text"
      },
      "source": [
        "Seems like the semantic or syntactic hierarchy is not very intelligible in this case. Let's play with another set-up, in which the agents share a kind of knowledge that very much belongs to human common sense: even and odd numbers."
      ]
    },
    {
      "cell_type": "markdown",
      "metadata": {
        "id": "Usi7lTIKpUrv",
        "colab_type": "text"
      },
      "source": [
        "## Basic Set-up 2: MNIST with Asymmetrical Prior Knowledge\n",
        "\n",
        "My hypothesis is that with an asymmetry of knowledge between the 2 agents, their messages should account for that fact. In other words, it should be reflected in some emergent form of *meaning*."
      ]
    },
    {
      "cell_type": "code",
      "metadata": {
        "id": "StWUOEfSoY8K",
        "colab_type": "code",
        "colab": {}
      },
      "source": [
        "class WithOddness(datasets.MNIST) :\n",
        "    def __getitem__(self, idx):\n",
        "        image, label = super().__getitem__(idx)\n",
        "        oddness = 0\n",
        "        if label % 2 == 1:\n",
        "            oddness = 1\n",
        "        return image, torch.tensor(label), torch.tensor(oddness)"
      ],
      "execution_count": null,
      "outputs": []
    },
    {
      "cell_type": "code",
      "metadata": {
        "id": "Cw5wJ5yvp5X-",
        "colab_type": "code",
        "colab": {
          "base_uri": "https://localhost:8080/",
          "height": 315,
          "referenced_widgets": [
            "33b837c979c64a989f96d69f67e5c24c",
            "cdf6872963e544c9beaae3ebe9161374",
            "bf61fce3576e4314930f17710cd69fb3",
            "85892a55d5dd459e999daa0b20d72e09",
            "a5253ec598dc4dc79a521187d81b1e48",
            "3ec805612eec40fea6daf1b6a71f4ffe",
            "89f383c7a32149c48700a5b695a33a03",
            "5e55e5ae95524c8ea765cf01096ded8c",
            "11655868cd404c1abc00569e689107af",
            "67e52bbce2f248f3a8a7f43fb9acfd5b",
            "828bae4c4a14499cbbf4ef22ac971349",
            "6125bef2f2124554be24e8a0ea026824",
            "ae19cc3ef7db4bdc9abd0aed90d592a2",
            "1aceb2e8fc614863a2ae10e079ec347a",
            "aa5391357eb7496e987c4e1e7901baed",
            "b59bcceabb07437db7d20712e518d395",
            "a900b043592143bf8fedeaaa9cb8c2f7",
            "5397f30e1e2e4fc5b24490d5b81bba49",
            "1a3e8d2d17594620970992e89b380614",
            "33753ea1b78749d387b852c2af2d73ef",
            "8fb92982c9b640dcba58e5f984e2e3a3",
            "3ff48a9468624c38a937e0f5413be18f",
            "4f1010e2de494350bf927362809e225a",
            "c538651bcd03450a9b9f7c7adc1a6833",
            "09410a1528714a5b8d6f424136419a83",
            "1af542112b7d4c4691c52492d5f71146",
            "480b1f9fffde4fcaa092bf5d4f4d0a22",
            "75ddbd9ed26645b2a149135689af6306",
            "8a928ee158e142eb94b5d60eda79a33c",
            "b362b08073c243c8903ed103521942de",
            "3d6558809d6f47d7a3a763d15cf8fff5",
            "cd4bfbfca4994e0bacff3897919e7b04"
          ]
        },
        "outputId": "e6cf56c9-8794-4374-a143-e65ca80bd566"
      },
      "source": [
        "kwargs = {'num_workers': 1, 'pin_memory': True} if opts.cuda else {}\n",
        "transform = transforms.ToTensor()\n",
        "\n",
        "train_loader_2 = torch.utils.data.DataLoader(\n",
        "    WithOddness('./data', train=True, download=True,\n",
        "    transform=transform),\n",
        "    batch_size=opts.batch_size, shuffle=True, **kwargs)\n",
        "\n",
        "\n",
        "validation_loader_2 = torch.utils.data.DataLoader(\n",
        "    WithOddness('./data', train=False, download=False,\n",
        "    transform=transform),\n",
        "    batch_size=4 * opts.batch_size, shuffle=False, **kwargs)"
      ],
      "execution_count": null,
      "outputs": [
        {
          "output_type": "stream",
          "text": [
            "Downloading http://yann.lecun.com/exdb/mnist/train-images-idx3-ubyte.gz to ./data/WithOddness/raw/train-images-idx3-ubyte.gz\n"
          ],
          "name": "stdout"
        },
        {
          "output_type": "display_data",
          "data": {
            "application/vnd.jupyter.widget-view+json": {
              "model_id": "33b837c979c64a989f96d69f67e5c24c",
              "version_minor": 0,
              "version_major": 2
            },
            "text/plain": [
              "HBox(children=(FloatProgress(value=1.0, bar_style='info', max=1.0), HTML(value='')))"
            ]
          },
          "metadata": {
            "tags": []
          }
        },
        {
          "output_type": "stream",
          "text": [
            "Extracting ./data/WithOddness/raw/train-images-idx3-ubyte.gz to ./data/WithOddness/raw\n",
            "Downloading http://yann.lecun.com/exdb/mnist/train-labels-idx1-ubyte.gz to ./data/WithOddness/raw/train-labels-idx1-ubyte.gz\n"
          ],
          "name": "stdout"
        },
        {
          "output_type": "display_data",
          "data": {
            "application/vnd.jupyter.widget-view+json": {
              "model_id": "11655868cd404c1abc00569e689107af",
              "version_minor": 0,
              "version_major": 2
            },
            "text/plain": [
              "HBox(children=(FloatProgress(value=1.0, bar_style='info', max=1.0), HTML(value='')))"
            ]
          },
          "metadata": {
            "tags": []
          }
        },
        {
          "output_type": "stream",
          "text": [
            "Extracting ./data/WithOddness/raw/train-labels-idx1-ubyte.gz to ./data/WithOddness/raw\n",
            "Downloading http://yann.lecun.com/exdb/mnist/t10k-images-idx3-ubyte.gz to ./data/WithOddness/raw/t10k-images-idx3-ubyte.gz\n"
          ],
          "name": "stdout"
        },
        {
          "output_type": "display_data",
          "data": {
            "application/vnd.jupyter.widget-view+json": {
              "model_id": "a900b043592143bf8fedeaaa9cb8c2f7",
              "version_minor": 0,
              "version_major": 2
            },
            "text/plain": [
              "HBox(children=(FloatProgress(value=1.0, bar_style='info', max=1.0), HTML(value='')))"
            ]
          },
          "metadata": {
            "tags": []
          }
        },
        {
          "output_type": "stream",
          "text": [
            "Extracting ./data/WithOddness/raw/t10k-images-idx3-ubyte.gz to ./data/WithOddness/raw\n",
            "Downloading http://yann.lecun.com/exdb/mnist/t10k-labels-idx1-ubyte.gz to ./data/WithOddness/raw/t10k-labels-idx1-ubyte.gz\n"
          ],
          "name": "stdout"
        },
        {
          "output_type": "display_data",
          "data": {
            "application/vnd.jupyter.widget-view+json": {
              "model_id": "09410a1528714a5b8d6f424136419a83",
              "version_minor": 0,
              "version_major": 2
            },
            "text/plain": [
              "HBox(children=(FloatProgress(value=1.0, bar_style='info', max=1.0), HTML(value='')))"
            ]
          },
          "metadata": {
            "tags": []
          }
        },
        {
          "output_type": "stream",
          "text": [
            "Extracting ./data/WithOddness/raw/t10k-labels-idx1-ubyte.gz to ./data/WithOddness/raw\n",
            "Processing...\n",
            "Done!\n"
          ],
          "name": "stdout"
        }
      ]
    },
    {
      "cell_type": "code",
      "metadata": {
        "id": "7hw0iWCAq1hD",
        "colab_type": "code",
        "colab": {}
      },
      "source": [
        "hidden_size = 20\n",
        "embed_size_sender = 10\n",
        "embed_size_receiver = 2\n",
        "\n",
        "VOCAB_SIZE = 8\n",
        "MAX_LEN = 9\n",
        "TEMP = 0.25 \n",
        "\n",
        "# init Sender and Receiver\n",
        "sender = Sender(hidden_size)\n",
        "receiver = Receiver(hidden_size, class_size=2)\n",
        "\n",
        "# wrap them in RNNs with Gumbel-Softmax relaxation\n",
        "sender_rnn = core.RnnSenderGS(sender, VOCAB_SIZE, embed_size_sender, hidden_size,\n",
        "                              cell=\"lstm\", max_len=MAX_LEN, temperature=TEMP,\n",
        "                              trainable_temperature=False)\n",
        "receiver_rnn = core.RnnReceiverGS(receiver, VOCAB_SIZE, embed_size_receiver,\n",
        "                    hidden_size, cell=\"lstm\")\n",
        "\n",
        "# init game\n",
        "game_rnn = core.SenderReceiverRnnGS(sender_rnn, receiver_rnn, loss)"
      ],
      "execution_count": null,
      "outputs": []
    },
    {
      "cell_type": "code",
      "metadata": {
        "id": "HDsyJocfq14x",
        "colab_type": "code",
        "colab": {
          "base_uri": "https://localhost:8080/",
          "height": 102
        },
        "outputId": "ae8f46eb-365c-4d28-e7ac-d03cc9a39559"
      },
      "source": [
        "optimizer = torch.optim.Adam([\n",
        "        {'params': game_rnn.sender.parameters(), 'lr': 1e-4},\n",
        "        {'params': game_rnn.receiver.parameters(), 'lr': 1e-3}\n",
        "    ])\n",
        "\n",
        "trainer = core.Trainer(game=game_rnn, optimizer=optimizer, train_data=train_loader_2,\n",
        "                       validation_data=validation_loader_2)\n",
        "trainer.train(5)"
      ],
      "execution_count": null,
      "outputs": [
        {
          "output_type": "stream",
          "text": [
            "test: epoch 1, loss 0.2287134826183319,  {'mean_length': tensor(5.4077, device='cuda:0')}\n",
            "test: epoch 2, loss 0.21820184588432312,  {'mean_length': tensor(5.1605, device='cuda:0')}\n",
            "test: epoch 3, loss 0.21607866883277893,  {'mean_length': tensor(5.4261, device='cuda:0')}\n",
            "test: epoch 4, loss 0.21297360956668854,  {'mean_length': tensor(5.2055, device='cuda:0')}\n",
            "test: epoch 5, loss 0.21413613855838776,  {'mean_length': tensor(4.4505, device='cuda:0')}\n"
          ],
          "name": "stdout"
        }
      ]
    },
    {
      "cell_type": "code",
      "metadata": {
        "id": "R2AxMn6svSNM",
        "colab_type": "code",
        "colab": {
          "base_uri": "https://localhost:8080/",
          "height": 187
        },
        "outputId": "7305ee59-81df-41aa-e679-e2f36009f445"
      },
      "source": [
        "sender_input, messages, _receiver_inputs, receiver_outputs, _labels = \\\n",
        "            core.dump_sender_receiver(game_rnn, validation_loader_2, gs=True, variable_length=True)\n",
        "messages[100:110]"
      ],
      "execution_count": null,
      "outputs": [
        {
          "output_type": "execute_result",
          "data": {
            "text/plain": [
              "[tensor([4, 4, 1, 1, 1, 1, 0], device='cuda:0'),\n",
              " tensor([4, 4, 4, 4, 1, 1, 1, 0], device='cuda:0'),\n",
              " tensor([4, 4, 4, 4, 1, 1, 0], device='cuda:0'),\n",
              " tensor([4, 4, 1, 1, 0], device='cuda:0'),\n",
              " tensor([4, 4, 1, 1, 1, 0], device='cuda:0'),\n",
              " tensor([4, 4, 1, 1, 0], device='cuda:0'),\n",
              " tensor([4, 4, 4, 1, 1, 1, 0], device='cuda:0'),\n",
              " tensor([7, 0], device='cuda:0'),\n",
              " tensor([4, 4, 1, 1, 0], device='cuda:0'),\n",
              " tensor([4, 1, 1, 0], device='cuda:0')]"
            ]
          },
          "metadata": {
            "tags": []
          },
          "execution_count": 174
        }
      ]
    },
    {
      "cell_type": "code",
      "metadata": {
        "id": "GikfDxh1w_d5",
        "colab_type": "code",
        "colab": {
          "base_uri": "https://localhost:8080/",
          "height": 153
        },
        "outputId": "9c2f7b2f-eb9a-481e-b00f-e960f2e6f8d8"
      },
      "source": [
        "messages_to_strings_2 = [tensor_to_string(message) for message in messages]\n",
        "message_code_2 = np.unique(messages_to_strings_2)\n",
        "message_code_2"
      ],
      "execution_count": null,
      "outputs": [
        {
          "output_type": "execute_result",
          "data": {
            "text/plain": [
              "array(['0', '10', '110', '1110', '170', '40', '410', '4110', '41110',\n",
              "       '411110', '411130', '41170', '4170', '440', '4410', '44110',\n",
              "       '441110', '4411110', '4411130', '441130', '44130', '4430', '4440',\n",
              "       '44410', '444110', '4441110', '44411110', '44411130', '4441130',\n",
              "       '444130', '44430', '44440', '444410', '4444110', '44441110',\n",
              "       '444411130', '44441130', '4444410', '44444110', '444441110',\n",
              "       '444441130', '44444410', '444444110', '444444130', '44444430',\n",
              "       '444444410', '444444440', '470', '70'], dtype='<U9')"
            ]
          },
          "metadata": {
            "tags": []
          },
          "execution_count": 175
        }
      ]
    },
    {
      "cell_type": "code",
      "metadata": {
        "id": "lNcrZqNYxNBO",
        "colab_type": "code",
        "colab": {
          "base_uri": "https://localhost:8080/",
          "height": 34
        },
        "outputId": "acb8d773-27a7-4974-d63c-ace67185d445"
      },
      "source": [
        "len(message_code_2)"
      ],
      "execution_count": null,
      "outputs": [
        {
          "output_type": "execute_result",
          "data": {
            "text/plain": [
              "49"
            ]
          },
          "metadata": {
            "tags": []
          },
          "execution_count": 176
        }
      ]
    },
    {
      "cell_type": "code",
      "metadata": {
        "id": "MD8YGSfTxfQt",
        "colab_type": "code",
        "colab": {
          "base_uri": "https://localhost:8080/",
          "height": 34
        },
        "outputId": "a562bb95-d0fd-47b8-de00-90cb00d500b9"
      },
      "source": [
        "fours_idx_list_2 = []\n",
        "for code in message_code_2 :\n",
        "    for i, message in enumerate(messages_to_strings_2) :\n",
        "        if (_labels[i].to('cpu') == torch.tensor(4)) and (message == code) :\n",
        "            fours_idx_list_2.append(i)\n",
        "            break\n",
        "\n",
        "len(fours_idx_list_2)"
      ],
      "execution_count": null,
      "outputs": [
        {
          "output_type": "execute_result",
          "data": {
            "text/plain": [
              "16"
            ]
          },
          "metadata": {
            "tags": []
          },
          "execution_count": 177
        }
      ]
    },
    {
      "cell_type": "code",
      "metadata": {
        "id": "uX4BOeABxr4x",
        "colab_type": "code",
        "colab": {
          "base_uri": "https://localhost:8080/",
          "height": 34
        },
        "outputId": "de6ccda6-05ee-438d-f73b-64c18503b99e"
      },
      "source": [
        "sevens_idx_list_2 = []\n",
        "for code in message_code_2 :\n",
        "    for i, message in enumerate(messages_to_strings_2) :\n",
        "        if (_labels[i].to('cpu') == torch.tensor(7)) and (message == code) :\n",
        "            sevens_idx_list_2.append(i)\n",
        "            break\n",
        "\n",
        "len(sevens_idx_list_2)"
      ],
      "execution_count": null,
      "outputs": [
        {
          "output_type": "execute_result",
          "data": {
            "text/plain": [
              "15"
            ]
          },
          "metadata": {
            "tags": []
          },
          "execution_count": 178
        }
      ]
    },
    {
      "cell_type": "code",
      "metadata": {
        "id": "7BbuWvjCyx-i",
        "colab_type": "code",
        "colab": {
          "base_uri": "https://localhost:8080/",
          "height": 264
        },
        "outputId": "179dbe64-40d5-46f4-9d2e-9a864fa92932"
      },
      "source": [
        "f, ax = plt.subplots(4, 4, figsize=(10, 4))\n",
        "\n",
        "for i, index in enumerate(fours_idx_list_2) :\n",
        "    image = validation_loader_2.dataset[index][0].view(28, 28)\n",
        "    ax[i//4][i%4].imshow(image, cmap='gray')\n",
        "    ax[i//4][i%4].set_title(messages_to_strings_2[index])\n",
        "    ax[i//4][i%4].axis('off')"
      ],
      "execution_count": null,
      "outputs": [
        {
          "output_type": "display_data",
          "data": {
            "image/png": "[encoded data removed]",
            "text/plain": [
              "<Figure size 720x288 with 16 Axes>"
            ]
          },
          "metadata": {
            "tags": []
          }
        }
      ]
    },
    {
      "cell_type": "code",
      "metadata": {
        "id": "c-GkqsVKzcUO",
        "colab_type": "code",
        "colab": {
          "base_uri": "https://localhost:8080/",
          "height": 281
        },
        "outputId": "5a1b0447-450a-4af7-a072-9c3e0e5e2a5b"
      },
      "source": [
        "f, ax = plt.subplots(4, 4, figsize=(10, 4))\n",
        "\n",
        "for i, index in enumerate(sevens_idx_list_2) :\n",
        "    image = validation_loader_2.dataset[index][0].view(28, 28)\n",
        "    ax[i//4][i%4].imshow(image, cmap='gray')\n",
        "    ax[i//4][i%4].set_title(messages_to_strings_2[index])\n",
        "    ax[i//4][i%4].axis('off')\n",
        "\n",
        "ax[3][3].axis('off')"
      ],
      "execution_count": null,
      "outputs": [
        {
          "output_type": "execute_result",
          "data": {
            "text/plain": [
              "(0.0, 1.0, 0.0, 1.0)"
            ]
          },
          "metadata": {
            "tags": []
          },
          "execution_count": 145
        },
        {
          "output_type": "display_data",
          "data": {
            "image/png": "[encoded data removed]",
            "text/plain": [
              "<Figure size 720x288 with 16 Axes>"
            ]
          },
          "metadata": {
            "tags": []
          }
        }
      ]
    },
    {
      "cell_type": "code",
      "metadata": {
        "id": "rC0KatT85C3k",
        "colab_type": "code",
        "colab": {
          "base_uri": "https://localhost:8080/",
          "height": 204
        },
        "outputId": "2805ea7c-fee1-4f7e-fba6-8681cc54590b"
      },
      "source": [
        "data = {\n",
        "    'Oddness' : _labels,\n",
        "    'Messages' : messages_to_strings_2\n",
        "}\n",
        "\n",
        "df = pd.DataFrame(data, columns=['Oddness', 'Messages'])\n",
        "df.head()"
      ],
      "execution_count": null,
      "outputs": [
        {
          "output_type": "execute_result",
          "data": {
            "text/html": [
              "<div>\n",
              "<style scoped>\n",
              "    .dataframe tbody tr th:only-of-type {\n",
              "        vertical-align: middle;\n",
              "    }\n",
              "\n",
              "    .dataframe tbody tr th {\n",
              "        vertical-align: top;\n",
              "    }\n",
              "\n",
              "    .dataframe thead th {\n",
              "        text-align: right;\n",
              "    }\n",
              "</style>\n",
              "<table border=\"1\" class=\"dataframe\">\n",
              "  <thead>\n",
              "    <tr style=\"text-align: right;\">\n",
              "      <th></th>\n",
              "      <th>Oddness</th>\n",
              "      <th>Messages</th>\n",
              "    </tr>\n",
              "  </thead>\n",
              "  <tbody>\n",
              "    <tr>\n",
              "      <th>0</th>\n",
              "      <td>tensor(7)</td>\n",
              "      <td>4110</td>\n",
              "    </tr>\n",
              "    <tr>\n",
              "      <th>1</th>\n",
              "      <td>tensor(2)</td>\n",
              "      <td>4411110</td>\n",
              "    </tr>\n",
              "    <tr>\n",
              "      <th>2</th>\n",
              "      <td>tensor(1)</td>\n",
              "      <td>70</td>\n",
              "    </tr>\n",
              "    <tr>\n",
              "      <th>3</th>\n",
              "      <td>tensor(0)</td>\n",
              "      <td>44441110</td>\n",
              "    </tr>\n",
              "    <tr>\n",
              "      <th>4</th>\n",
              "      <td>tensor(4)</td>\n",
              "      <td>44110</td>\n",
              "    </tr>\n",
              "  </tbody>\n",
              "</table>\n",
              "</div>"
            ],
            "text/plain": [
              "     Oddness  Messages\n",
              "0  tensor(7)      4110\n",
              "1  tensor(2)   4411110\n",
              "2  tensor(1)        70\n",
              "3  tensor(0)  44441110\n",
              "4  tensor(4)     44110"
            ]
          },
          "metadata": {
            "tags": []
          },
          "execution_count": 160
        }
      ]
    },
    {
      "cell_type": "code",
      "metadata": {
        "id": "r0F-TSgh8Tu0",
        "colab_type": "code",
        "colab": {
          "base_uri": "https://localhost:8080/",
          "height": 170
        },
        "outputId": "30a795cb-8278-4cd4-d70b-e577f36323a5"
      },
      "source": [
        "df.info()"
      ],
      "execution_count": null,
      "outputs": [
        {
          "output_type": "stream",
          "text": [
            "<class 'pandas.core.frame.DataFrame'>\n",
            "RangeIndex: 10000 entries, 0 to 9999\n",
            "Data columns (total 2 columns):\n",
            " #   Column    Non-Null Count  Dtype \n",
            "---  ------    --------------  ----- \n",
            " 0   Oddness   10000 non-null  object\n",
            " 1   Messages  10000 non-null  object\n",
            "dtypes: object(2)\n",
            "memory usage: 156.4+ KB\n"
          ],
          "name": "stdout"
        }
      ]
    },
    {
      "cell_type": "code",
      "metadata": {
        "id": "6VS7uJPd6WbW",
        "colab_type": "code",
        "colab": {}
      },
      "source": [
        "message_idx = range(len(message_code_2))\n",
        "message_categories = dict(zip(message_code_2, message_idx))"
      ],
      "execution_count": null,
      "outputs": []
    },
    {
      "cell_type": "code",
      "metadata": {
        "id": "MLymGRMw71a-",
        "colab_type": "code",
        "colab": {
          "base_uri": "https://localhost:8080/",
          "height": 204
        },
        "outputId": "de236a08-c300-496f-cd50-c6151984d7b9"
      },
      "source": [
        "df['Messages'] = df['Messages'].apply(lambda x: message_categories[x])\n",
        "df['Oddness'] = df['Oddness'].apply(lambda x: 0 if x % 2 == torch.tensor(0) else 1)\n",
        "df.head()"
      ],
      "execution_count": null,
      "outputs": [
        {
          "output_type": "execute_result",
          "data": {
            "text/html": [
              "<div>\n",
              "<style scoped>\n",
              "    .dataframe tbody tr th:only-of-type {\n",
              "        vertical-align: middle;\n",
              "    }\n",
              "\n",
              "    .dataframe tbody tr th {\n",
              "        vertical-align: top;\n",
              "    }\n",
              "\n",
              "    .dataframe thead th {\n",
              "        text-align: right;\n",
              "    }\n",
              "</style>\n",
              "<table border=\"1\" class=\"dataframe\">\n",
              "  <thead>\n",
              "    <tr style=\"text-align: right;\">\n",
              "      <th></th>\n",
              "      <th>Oddness</th>\n",
              "      <th>Messages</th>\n",
              "    </tr>\n",
              "  </thead>\n",
              "  <tbody>\n",
              "    <tr>\n",
              "      <th>0</th>\n",
              "      <td>1</td>\n",
              "      <td>7</td>\n",
              "    </tr>\n",
              "    <tr>\n",
              "      <th>1</th>\n",
              "      <td>0</td>\n",
              "      <td>17</td>\n",
              "    </tr>\n",
              "    <tr>\n",
              "      <th>2</th>\n",
              "      <td>1</td>\n",
              "      <td>48</td>\n",
              "    </tr>\n",
              "    <tr>\n",
              "      <th>3</th>\n",
              "      <td>0</td>\n",
              "      <td>34</td>\n",
              "    </tr>\n",
              "    <tr>\n",
              "      <th>4</th>\n",
              "      <td>0</td>\n",
              "      <td>15</td>\n",
              "    </tr>\n",
              "  </tbody>\n",
              "</table>\n",
              "</div>"
            ],
            "text/plain": [
              "   Oddness  Messages\n",
              "0        1         7\n",
              "1        0        17\n",
              "2        1        48\n",
              "3        0        34\n",
              "4        0        15"
            ]
          },
          "metadata": {
            "tags": []
          },
          "execution_count": 162
        }
      ]
    },
    {
      "cell_type": "code",
      "metadata": {
        "id": "mwKVCiS78o2z",
        "colab_type": "code",
        "colab": {
          "base_uri": "https://localhost:8080/",
          "height": 111
        },
        "outputId": "ba5cbe84-f8ff-4268-a6e3-80c799c9b7f6"
      },
      "source": [
        "df.corr()"
      ],
      "execution_count": null,
      "outputs": [
        {
          "output_type": "execute_result",
          "data": {
            "text/html": [
              "<div>\n",
              "<style scoped>\n",
              "    .dataframe tbody tr th:only-of-type {\n",
              "        vertical-align: middle;\n",
              "    }\n",
              "\n",
              "    .dataframe tbody tr th {\n",
              "        vertical-align: top;\n",
              "    }\n",
              "\n",
              "    .dataframe thead th {\n",
              "        text-align: right;\n",
              "    }\n",
              "</style>\n",
              "<table border=\"1\" class=\"dataframe\">\n",
              "  <thead>\n",
              "    <tr style=\"text-align: right;\">\n",
              "      <th></th>\n",
              "      <th>Oddness</th>\n",
              "      <th>Messages</th>\n",
              "    </tr>\n",
              "  </thead>\n",
              "  <tbody>\n",
              "    <tr>\n",
              "      <th>Oddness</th>\n",
              "      <td>1.000000</td>\n",
              "      <td>0.045609</td>\n",
              "    </tr>\n",
              "    <tr>\n",
              "      <th>Messages</th>\n",
              "      <td>0.045609</td>\n",
              "      <td>1.000000</td>\n",
              "    </tr>\n",
              "  </tbody>\n",
              "</table>\n",
              "</div>"
            ],
            "text/plain": [
              "           Oddness  Messages\n",
              "Oddness   1.000000  0.045609\n",
              "Messages  0.045609  1.000000"
            ]
          },
          "metadata": {
            "tags": []
          },
          "execution_count": 163
        }
      ]
    },
    {
      "cell_type": "markdown",
      "metadata": {
        "id": "Axn9MdRpCEmY",
        "colab_type": "text"
      },
      "source": [
        "Uh oh, the Pearson Correlation **r** is too small for n = 10000. Looks like my hypothesis was not supported.\n"
      ]
    }
  ]
}